{
 "cells": [
  {
   "cell_type": "code",
   "execution_count": 2,
   "metadata": {
    "collapsed": false
   },
   "outputs": [
    {
     "name": "stdout",
     "output_type": "stream",
     "text": [
      "Namespace(alpha=0.1, data='data/gtex_filtered3d.csv', dim=3, fdr_scale=1.0, init=1, mirror=1, out='test', prefix='http://localhost:8888/files', usedim=-1)\n",
      "('lambda ', 50000.0)\n"
     ]
    }
   ],
   "source": [
    "from sideinfo_release import *\n",
    "import matplotlib.pyplot as plt\n",
    "import numpy as np\n",
    "import timeit\n",
    "import sys\n",
    "import argparse\n",
    "\n",
    "\n",
    "then = timeit.default_timer()\n",
    "\n",
    "parser = argparse.ArgumentParser()\n",
    "parser.add_argument('--data', type=str, default = '',  help='data path')\n",
    "parser.add_argument('--dim', type=int, default = 1,  help='dimension of data')\n",
    "parser.add_argument('--init', type=int, default = 5,  help='number of inits')\n",
    "parser.add_argument('--out', type=str, default = 'test',  help='output_directory')\n",
    "parser.add_argument('--prefix', type=str, default = 'http://localhost:8888/files',  help='url prefix')\n",
    "parser.add_argument('--alpha', type=float, default = 0.05,  help='fdr')\n",
    "parser.add_argument('--fdr_scale', type=float, default = 1,  help='fd scale')\n",
    "parser.add_argument('--mirror', type=float, default = 1,  help='mirror')\n",
    "parser.add_argument('--usedim', type=int, default = -1,  help='dimension of data')\n",
    "\n",
    "\n",
    "\n",
    "\n",
    "\n",
    "opt = parser.parse_args(['--data', 'data/gtex_filtered3d.csv', '--init', '1', '--alpha', '0.1', '--fdr_scale', '1',  '--dim',  '3'   ])\n",
    "print (opt)\n",
    "\n",
    "fn = opt.data\n",
    "dim = opt.dim\n",
    "\n",
    "\n",
    "\n",
    "\n",
    "data = np.loadtxt(open(fn, \"rb\"), delimiter=\",\", skiprows=1)\n",
    "x = data[:,0:dim]\n",
    "p = data[:,dim]\n",
    "h = data[:,dim+1]\n",
    "n_samples = len(x)\n",
    "\n",
    "\n",
    "if opt.usedim >= 0:\n",
    "    x = x[:, opt.usedim]\n",
    "    dim = 1\n",
    "    \n",
    "grids = None\n",
    "x_prob = None\n",
    "\n",
    "if dim == 1:\n",
    "    max_x = np.max(x)\n",
    "    min_x = np.min(x)\n",
    "    x_prob = np.arange(min_x, max_x, (max_x - min_x)/1000.0)\n",
    "    x_prob = x_prob.reshape((len(x_prob), 1))\n",
    "    x_prob = Variable(torch.from_numpy(x_prob.astype(np.float32)))\n",
    "\n",
    "elif dim == 2:\n",
    "    max_x0 = np.max(x[:,0])\n",
    "    min_x0 = np.min(x[:,0])\n",
    "    max_x1 = np.max(x[:,1])\n",
    "    min_x1 = np.min(x[:,1])\n",
    "    x_prob0 = np.arange(min_x0, max_x0, (max_x0 - min_x0)/100.0)\n",
    "    x_prob1 = np.arange(min_x1, max_x1, (max_x1 - min_x1)/100.0)\n",
    "    X_grid, Y_grid = np.meshgrid(x_prob0, x_prob1)\n",
    "    x_prob = Variable(torch.from_numpy(\n",
    "    np.concatenate([[X_grid.flatten()], [Y_grid.flatten()]]).T.astype(np.float32)))\n",
    "    grids = (X_grid, Y_grid)\n",
    "\n",
    "\n",
    "if x_prob:\n",
    "    print(x_prob.size())\n",
    "    x_prob = x_prob.cuda()\n",
    "\n",
    "#network = get_network(cuda = True, dim = dim)\n",
    "#optimizer = optim.Adagrad(network.parameters(), lr = 0.01)\n",
    "\n",
    "\n",
    "indices = np.random.permutation(x.shape[0])\n",
    "A = [indices[:x.shape[0]/3], indices[x.shape[0]/3 : x.shape[0]/3*2], indices[x.shape[0]/3 * 2:]]\n",
    "train = A\n",
    "val = [A[1], A[2], A[0]]\n",
    "test = [A[2], A[0], A[1]]\n",
    "outputs = []\n",
    "preds = []\n",
    "gts = []\n",
    "\n",
    "info = {}\n",
    "info['filename'] = fn.replace('_', '\\_')\n",
    "\n",
    "loss_hists1 = []\n",
    "loss_hists2 = []\n",
    "\n",
    "efdr = np.zeros((3,3))\n",
    "scales = np.zeros(3)\n",
    "\n",
    "ninit = opt.init\n",
    "\n",
    "bhp = BH(p, alpha = opt.alpha)[1]\n",
    "lambda_param = 4/bhp\n",
    "lambda_param = 5e4\n",
    "print('lambda ', lambda_param)\n",
    "\n",
    "if dim == 1:\n",
    "    x = x.reshape((x.shape[0], 1))\n",
    "\n"
   ]
  },
  {
   "cell_type": "code",
   "execution_count": 3,
   "metadata": {
    "collapsed": false
   },
   "outputs": [],
   "source": [
    "dim = 1\n",
    "x = x[:, 2:3]"
   ]
  },
  {
   "cell_type": "code",
   "execution_count": 4,
   "metadata": {
    "collapsed": true
   },
   "outputs": [],
   "source": [
    "def get_network(num_layers = 10, node_size = 10, dim = 1, scale = 1, cuda = False):\n",
    "    \n",
    "    \n",
    "    class Model(nn.Module):\n",
    "        def __init__(self, num_layers, node_size, dim):\n",
    "            super(Model, self).__init__()\n",
    "            l = []\n",
    "            l.append(nn.Linear(dim,node_size))\n",
    "            l.append(nn.LeakyReLU(0.1))\n",
    "            for i in range(num_layers - 2):\n",
    "                l.append(nn.Linear(node_size,node_size))\n",
    "                l.append(nn.LeakyReLU(0.1))\n",
    "\n",
    "            l.append(nn.Linear(node_size,1))\n",
    "            #l.append(nn.Sigmoid())\n",
    "\n",
    "            self.layers = nn.Sequential(*l)\n",
    "\n",
    "\n",
    "        def forward(self, x):\n",
    "            x = self.layers(x)\n",
    "            #x = 0.5 * scale * x \n",
    "                \n",
    "            x = scale * torch.exp(x)\n",
    "            \n",
    "            return x\n",
    "\n",
    "\n",
    "    network = Model(num_layers, node_size, dim)\n",
    "    if cuda:\n",
    "        return network.cuda()\n",
    "    else:\n",
    "        return network"
   ]
  },
  {
   "cell_type": "code",
   "execution_count": 5,
   "metadata": {
    "collapsed": false
   },
   "outputs": [
    {
     "name": "stdout",
     "output_type": "stream",
     "text": [
      "(9739, 0.00027493899999999998)\n"
     ]
    }
   ],
   "source": [
    "i = 0\n",
    "networks = []\n",
    "scores = []\n",
    "loss_hist1_array = []\n",
    "loss_hist2_array = []\n",
    "\n",
    "network = get_network(num_layers = 10, cuda = True, dim = dim, scale = 0.00027629599999999999)\n",
    "optimizer = optim.Adagrad(network.parameters(), lr = 0.01)\n",
    "train_idx = train[i]\n",
    "val_idx = val[i]\n",
    "test_idx = test[i]\n",
    "\n",
    "#network init\n",
    "#try:\n",
    "#    p_target = opt_threshold_multi(x[train_idx,:], p[train_idx], 10, alpha = opt.alpha)\n",
    "#except:\n",
    "print(BH(p[train_idx], alpha = opt.alpha, n = 10623893/3))\n",
    "p_target = np.ones(x[train_idx,:].shape[0]) * BH(p[train_idx], alpha = opt.alpha, n = 10623893/3)[1]\n",
    "\n",
    "\n",
    "#plt.figure()\n",
    "#plt.scatter(x, p_target)\n"
   ]
  },
  {
   "cell_type": "code",
   "execution_count": 6,
   "metadata": {
    "collapsed": true
   },
   "outputs": [],
   "source": [
    "import matplotlib.pyplot as plt\n",
    "%matplotlib inline"
   ]
  },
  {
   "cell_type": "code",
   "execution_count": 7,
   "metadata": {
    "collapsed": true
   },
   "outputs": [],
   "source": [
    "def init(x, p):\n",
    "\n",
    "    from sklearn.cluster import KMeans\n",
    "    km = KMeans(n_clusters=20)\n",
    "    group = km.fit_predict(x)\n",
    "    \n",
    "    alpha = 0.1\n",
    "    ths = []\n",
    "    discs = 0\n",
    "    for i in range(20):\n",
    "        p_null = p[np.logical_and(group == i, p > 1-0.005)]\n",
    "        p_alt = p[np.logical_and(group == i, p < 0.005)]\n",
    "        th_high = 0.005\n",
    "        th_low = 0\n",
    "\n",
    "        for j in range(200):\n",
    "            th = (th_high + th_low)/2\n",
    "            #print th\n",
    "            fd = np.sum(p_null > 1-th)\n",
    "            td = np.sum(p_alt < th)\n",
    "            #print fd, td*alpha, th\n",
    "            if fd > td * alpha:\n",
    "                th_high = th\n",
    "            else:\n",
    "                th_low = th\n",
    "\n",
    "        ths.append(th)\n",
    "        discs += td\n",
    "        print td, fd, th\n",
    "    ths = np.array(ths)\n",
    "    \n",
    "    dist = (x.repeat(20, axis = 1) - km.cluster_centers_.T ) ** 2\n",
    "    s = np.sum(dist, axis = 1)\n",
    "    prob = np.exp(-dist * 5) / np.expand_dims(np.sum(np.exp(-dist * 5), axis = 1),1)\n",
    "    p_target = prob.dot(ths)\n",
    "    \n",
    "    return p_target"
   ]
  },
  {
   "cell_type": "code",
   "execution_count": 8,
   "metadata": {
    "collapsed": false
   },
   "outputs": [
    {
     "name": "stdout",
     "output_type": "stream",
     "text": [
      "17265 1729 0.000269\n",
      "848 83 0.000446\n",
      "539 53 0.000561\n",
      "186 18 0.000278\n",
      "1152 115 0.000475\n",
      "89 8 0.000154\n",
      "1213 120 0.000302\n",
      "279 27 0.00031\n",
      "194 19 0.000551\n",
      "662 66 0.000454\n",
      "182 18 0.000461\n",
      "1780 177 0.000284\n",
      "463 47 0.000495\n",
      "754 75 0.00044\n",
      "180 19 0.000433\n",
      "156 16 0.00046\n",
      "184 19 0.000396\n",
      "3672 369 0.00033\n",
      "241 25 0.000336\n",
      "556 55 0.00051\n"
     ]
    }
   ],
   "source": [
    "p_target = init(x, p)"
   ]
  },
  {
   "cell_type": "code",
   "execution_count": 10,
   "metadata": {
    "collapsed": false
   },
   "outputs": [
    {
     "data": {
      "text/plain": [
       "<matplotlib.collections.PathCollection at 0x7f2a833349d0>"
      ]
     },
     "execution_count": 10,
     "metadata": {},
     "output_type": "execute_result"
    },
    {
     "data": {
      "image/png": "[encoded data removed]",
      "text/plain": [
       "<matplotlib.figure.Figure at 0x7f2a455ba2d0>"
      ]
     },
     "metadata": {},
     "output_type": "display_data"
    }
   ],
   "source": [
    "plt.scatter(x, p_target, 0.01)"
   ]
  },
  {
   "cell_type": "code",
   "execution_count": 11,
   "metadata": {
    "collapsed": false
   },
   "outputs": [],
   "source": [
    "#network = get_network(num_layers = 10, cuda = True, dim = 1, scale = np.mean(p_target))\n",
    "optimizer = optim.Adagrad(network.parameters(), lr = 0.01)"
   ]
  },
  {
   "cell_type": "code",
   "execution_count": 12,
   "metadata": {
    "collapsed": false
   },
   "outputs": [
    {
     "name": "stdout",
     "output_type": "stream",
     "text": [
      "0\n",
      "100\n",
      "200\n",
      "300\n",
      "400\n"
     ]
    }
   ],
   "source": [
    "loss_hist = train_network_to_target_p(network, optimizer, x[:,0], p_target, num_it = 500, cuda= True, dim = 1)"
   ]
  },
  {
   "cell_type": "code",
   "execution_count": 13,
   "metadata": {
    "collapsed": false
   },
   "outputs": [
    {
     "data": {
      "text/plain": [
       "[<matplotlib.lines.Line2D at 0x7f2a456c77d0>]"
      ]
     },
     "execution_count": 13,
     "metadata": {},
     "output_type": "execute_result"
    },
    {
     "data": {
      "image/png": "[encoded data removed]",
      "text/plain": [
       "<matplotlib.figure.Figure at 0x7f2a455ba790>"
      ]
     },
     "metadata": {},
     "output_type": "display_data"
    }
   ],
   "source": [
    "plt.plot(np.log(loss_hist))"
   ]
  },
  {
   "cell_type": "code",
   "execution_count": 15,
   "metadata": {
    "collapsed": false
   },
   "outputs": [
    {
     "data": {
      "text/plain": [
       "(169301,)"
      ]
     },
     "execution_count": 15,
     "metadata": {},
     "output_type": "execute_result"
    }
   ],
   "source": [
    "p.shape"
   ]
  },
  {
   "cell_type": "code",
   "execution_count": 31,
   "metadata": {
    "collapsed": false
   },
   "outputs": [],
   "source": [
    "threshold = network(Variable(torch.from_numpy(x.astype(np.float32))).cuda())"
   ]
  },
  {
   "cell_type": "code",
   "execution_count": 32,
   "metadata": {
    "collapsed": false
   },
   "outputs": [
    {
     "data": {
      "text/plain": [
       "<matplotlib.collections.PathCollection at 0x7f2a43f8b610>"
      ]
     },
     "execution_count": 32,
     "metadata": {},
     "output_type": "execute_result"
    },
    {
     "data": {
      "image/png": "[encoded data removed]",
      "text/plain": [
       "<matplotlib.figure.Figure at 0x7f2a43f8be50>"
      ]
     },
     "metadata": {},
     "output_type": "display_data"
    }
   ],
   "source": [
    "plt.scatter(x, threshold.cpu().data.numpy(), 0.01)"
   ]
  },
  {
   "cell_type": "code",
   "execution_count": 35,
   "metadata": {
    "collapsed": true
   },
   "outputs": [],
   "source": [
    "torch.save(network.state_dict(), 'data/gtex_dim2.th')"
   ]
  },
  {
   "cell_type": "code",
   "execution_count": 27,
   "metadata": {
    "collapsed": false
   },
   "outputs": [
    {
     "name": "stdout",
     "output_type": "stream",
     "text": [
      "(169301, 169301)\n",
      "0\n",
      "100\n",
      "200\n",
      "300\n",
      "400\n",
      "500\n",
      "600\n",
      "700\n",
      "800\n",
      "900\n",
      "1000\n",
      "1100\n",
      "1200\n",
      "1300\n",
      "1400\n",
      "1500\n",
      "1600\n",
      "1700\n",
      "1800\n",
      "1900\n"
     ]
    }
   ],
   "source": [
    "loss_hist2, s, s2 = train_network(network, optimizer, x, p, num_it = 2000, cuda = True, dim = dim, alpha = opt.alpha, lambda2_ = 5e4, fdr_scale = opt.fdr_scale, mirror = opt.mirror, lambda_ = 10)"
   ]
  },
  {
   "cell_type": "code",
   "execution_count": 28,
   "metadata": {
    "collapsed": false
   },
   "outputs": [
    {
     "data": {
      "text/plain": [
       "Variable containing:\n",
       " 0.1001\n",
       "[torch.cuda.FloatTensor of size 1 (GPU 0)]"
      ]
     },
     "execution_count": 28,
     "metadata": {},
     "output_type": "execute_result"
    }
   ],
   "source": [
    "s2/s"
   ]
  },
  {
   "cell_type": "code",
   "execution_count": 29,
   "metadata": {
    "collapsed": false
   },
   "outputs": [
    {
     "data": {
      "text/plain": [
       "[<matplotlib.lines.Line2D at 0x7f2a44021a10>]"
      ]
     },
     "execution_count": 29,
     "metadata": {},
     "output_type": "execute_result"
    },
    {
     "data": {
      "image/png": "[encoded data removed]",
      "text/plain": [
       "<matplotlib.figure.Figure at 0x7f2a454d3590>"
      ]
     },
     "metadata": {},
     "output_type": "display_data"
    }
   ],
   "source": [
    "plt.plot(loss_hist2)"
   ]
  },
  {
   "cell_type": "code",
   "execution_count": 33,
   "metadata": {
    "collapsed": false
   },
   "outputs": [],
   "source": [
    "preds = []\n",
    "n_samples = len(x)\n",
    "x_input = Variable(torch.from_numpy(x.astype(np.float32).reshape(n_samples ,dim))).cuda()\n",
    "p_input = Variable(torch.from_numpy(p.astype(np.float32).reshape(n_samples ,1))).cuda()\n",
    "output = network.forward(x_input) \n",
    "\n",
    "pred = (p_input < output).cpu().data.numpy()\n",
    "pred = pred[:,0].astype(np.float32)\n",
    "preds.append(pred)"
   ]
  },
  {
   "cell_type": "code",
   "execution_count": 34,
   "metadata": {
    "collapsed": false
   },
   "outputs": [
    {
     "data": {
      "text/plain": [
       "30525.0"
      ]
     },
     "execution_count": 34,
     "metadata": {},
     "output_type": "execute_result"
    }
   ],
   "source": [
    "np.sum(preds)"
   ]
  },
  {
   "cell_type": "code",
   "execution_count": 39,
   "metadata": {
    "collapsed": true
   },
   "outputs": [],
   "source": [
    "y = p_target * 100"
   ]
  },
  {
   "cell_type": "code",
   "execution_count": 40,
   "metadata": {
    "collapsed": false
   },
   "outputs": [
    {
     "data": {
      "text/plain": [
       "<matplotlib.collections.PathCollection at 0x7f6c400b95d0>"
      ]
     },
     "execution_count": 40,
     "metadata": {},
     "output_type": "execute_result"
    },
    {
     "data": {
      "image/png": "[encoded data removed]",
      "text/plain": [
       "<matplotlib.figure.Figure at 0x7f6c4001f4d0>"
      ]
     },
     "metadata": {},
     "output_type": "display_data"
    }
   ],
   "source": [
    "plt.scatter(x,y, 0.1)"
   ]
  },
  {
   "cell_type": "code",
   "execution_count": null,
   "metadata": {
    "collapsed": false
   },
   "outputs": [],
   "source": [
    "len(x)"
   ]
  },
  {
   "cell_type": "code",
   "execution_count": null,
   "metadata": {
    "collapsed": false
   },
   "outputs": [],
   "source": [
    "len(y)"
   ]
  },
  {
   "cell_type": "code",
   "execution_count": null,
   "metadata": {
    "collapsed": true
   },
   "outputs": [],
   "source": [
    "import torch.nn.functional as F"
   ]
  },
  {
   "cell_type": "code",
   "execution_count": null,
   "metadata": {
    "collapsed": true
   },
   "outputs": [],
   "source": [
    "network = get_network(cuda = True, scale = 0.07)#, scale=0.3)"
   ]
  },
  {
   "cell_type": "code",
   "execution_count": null,
   "metadata": {
    "collapsed": false
   },
   "outputs": [],
   "source": [
    "optimizer = torch.optim.Adagrad(network.parameters(), lr = 0.01)\n",
    "l2 = nn.L1Loss(size_average=True)"
   ]
  },
  {
   "cell_type": "code",
   "execution_count": null,
   "metadata": {
    "collapsed": false
   },
   "outputs": [],
   "source": [
    "loss_hist = []\n",
    "bt = 10000\n",
    "for i in range(1000):\n",
    "    choice = np.random.choice(range(169301), bt, False)\n",
    "    input = Variable(torch.from_numpy(x[choice].astype(np.float32))).cuda()\n",
    "    target = Variable(torch.from_numpy(y[choice].astype(np.float32))).cuda()\n",
    "    network.zero_grad()\n",
    "    loss = l2(network(input), target)\n",
    "    loss.backward()\n",
    "    optimizer.step()\n",
    "    loss_hist.append(loss.data[0])\n",
    "    print i"
   ]
  },
  {
   "cell_type": "code",
   "execution_count": null,
   "metadata": {
    "collapsed": false
   },
   "outputs": [],
   "source": [
    "plt.plot(np.log(loss_hist))"
   ]
  },
  {
   "cell_type": "code",
   "execution_count": null,
   "metadata": {
    "collapsed": true
   },
   "outputs": [],
   "source": [
    "input = Variable(torch.from_numpy(x.astype(np.float32))).cuda()\n",
    "pred = network(input)"
   ]
  },
  {
   "cell_type": "code",
   "execution_count": null,
   "metadata": {
    "collapsed": false
   },
   "outputs": [],
   "source": [
    "plt.scatter(x, pred.cpu().data.numpy(), 0.1)"
   ]
  },
  {
   "cell_type": "code",
   "execution_count": null,
   "metadata": {
    "collapsed": false
   },
   "outputs": [],
   "source": [
    "plt.scatter(x, y, 0.1)"
   ]
  },
  {
   "cell_type": "code",
   "execution_count": null,
   "metadata": {
    "collapsed": false
   },
   "outputs": [],
   "source": [
    "pred = np.array(pred.cpu().data.numpy() )"
   ]
  },
  {
   "cell_type": "code",
   "execution_count": null,
   "metadata": {
    "collapsed": false
   },
   "outputs": [],
   "source": [
    "plt.hist(pred[:,0] - y, 100)"
   ]
  },
  {
   "cell_type": "code",
   "execution_count": null,
   "metadata": {
    "collapsed": false
   },
   "outputs": [],
   "source": [
    "y.shape"
   ]
  },
  {
   "cell_type": "code",
   "execution_count": null,
   "metadata": {
    "collapsed": true
   },
   "outputs": [],
   "source": []
  }
 ],
 "metadata": {
  "kernelspec": {
   "display_name": "Python 2",
   "language": "python",
   "name": "python2"
  },
  "language_info": {
   "codemirror_mode": {
    "name": "ipython",
    "version": 2
   },
   "file_extension": ".py",
   "mimetype": "text/x-python",
   "name": "python",
   "nbconvert_exporter": "python",
   "pygments_lexer": "ipython2",
   "version": "2.7.12"
  }
 },
 "nbformat": 4,
 "nbformat_minor": 2
}
