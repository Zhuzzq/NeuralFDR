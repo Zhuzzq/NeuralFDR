{
 "cells": [
  {
   "cell_type": "code",
   "execution_count": 2,
   "metadata": {
    "collapsed": true
   },
   "outputs": [],
   "source": [
    "import pandas as pd\n",
    "import numpy as np\n",
    "%matplotlib inline\n",
    "import matplotlib.pyplot as plt\n",
    "from sklearn.neighbors import KernelDensity"
   ]
  },
  {
   "cell_type": "code",
   "execution_count": 12,
   "metadata": {
    "collapsed": false
   },
   "outputs": [],
   "source": [
    "df = pd.read_csv('Exp1/two_group.csv')"
   ]
  },
  {
   "cell_type": "code",
   "execution_count": 39,
   "metadata": {
    "collapsed": false
   },
   "outputs": [],
   "source": [
    "pv = df['pvalue']\n",
    "g = df[' G']\n",
    "h_1 = df[' H'][g == 0]\n",
    "h_2 = df[' H'][g == 1]"
   ]
  },
  {
   "cell_type": "code",
   "execution_count": 20,
   "metadata": {
    "collapsed": false
   },
   "outputs": [],
   "source": [
    "p1 = pv[g == 0]\n",
    "p2 = pv[g == 1]"
   ]
  },
  {
   "cell_type": "code",
   "execution_count": 57,
   "metadata": {
    "collapsed": false
   },
   "outputs": [
    {
     "data": {
      "text/plain": [
       "(array([ 2691.,  1484.,   996.,   803.,   735.,   602.,   244.,    60.,\n",
       "           92.,    64.,    63.,    76.,    77.,    69.,    67.,    77.,\n",
       "           59.,    89.,    74.,    75.,    67.,    74.,    84.,    72.,\n",
       "           77.,    72.,    62.,    81.,    77.,    74.,    75.,    80.,\n",
       "           75.,    64.,    72.,    71.,    81.,    91.,    75.,    79.]),\n",
       " array([  4.42181721e-04,   2.54300063e-02,   5.04178308e-02,\n",
       "          7.54056553e-02,   1.00393480e-01,   1.25381304e-01,\n",
       "          1.50369129e-01,   1.75356954e-01,   2.00344778e-01,\n",
       "          2.25332603e-01,   2.50320427e-01,   2.75308252e-01,\n",
       "          3.00296076e-01,   3.25283901e-01,   3.50271725e-01,\n",
       "          3.75259550e-01,   4.00247374e-01,   4.25235199e-01,\n",
       "          4.50223023e-01,   4.75210848e-01,   5.00198673e-01,\n",
       "          5.25186497e-01,   5.50174322e-01,   5.75162146e-01,\n",
       "          6.00149971e-01,   6.25137795e-01,   6.50125620e-01,\n",
       "          6.75113444e-01,   7.00101269e-01,   7.25089093e-01,\n",
       "          7.50076918e-01,   7.75064743e-01,   8.00052567e-01,\n",
       "          8.25040392e-01,   8.50028216e-01,   8.75016041e-01,\n",
       "          9.00003865e-01,   9.24991690e-01,   9.49979514e-01,\n",
       "          9.74967339e-01,   9.99955163e-01]),\n",
       " <a list of 40 Patch objects>)"
      ]
     },
     "execution_count": 57,
     "metadata": {},
     "output_type": "execute_result"
    },
    {
     "data": {
      "image/png": "[encoded data removed]",
      "text/plain": [
       "<matplotlib.figure.Figure at 0x7f2d089a3410>"
      ]
     },
     "metadata": {},
     "output_type": "display_data"
    }
   ],
   "source": [
    "plt.figure(figsize = (8,4))\n",
    "plt.subplot(1,2, 1)\n",
    "plt.hist(p1, 40)\n",
    "plt.subplot(1,2, 2)\n",
    "plt.hist(p2, 40)"
   ]
  },
  {
   "cell_type": "code",
   "execution_count": 22,
   "metadata": {
    "collapsed": true
   },
   "outputs": [],
   "source": [
    "x1 = np.array(p1)\n",
    "x2 = np.array(p2)"
   ]
  },
  {
   "cell_type": "code",
   "execution_count": 23,
   "metadata": {
    "collapsed": false
   },
   "outputs": [
    {
     "data": {
      "text/plain": [
       "(0, 10)"
      ]
     },
     "execution_count": 23,
     "metadata": {},
     "output_type": "execute_result"
    },
    {
     "data": {
      "image/png": "[encoded data removed]",
      "text/plain": [
       "<matplotlib.figure.Figure at 0x7f2d08943e10>"
      ]
     },
     "metadata": {},
     "output_type": "display_data"
    }
   ],
   "source": [
    "kde1 = KernelDensity(kernel='gaussian', bandwidth=0.01).fit(x1[:, np.newaxis])\n",
    "x_test = np.concatenate( [np.arange(0,0.1,0.00001), np.arange(0.1,1,0.0001)], 0)\n",
    "log_pdf = kde1.score_samples(x_test[:, np.newaxis])\n",
    "pdf = np.exp(log_pdf)\n",
    "plt.figure(figsize = (8,4))\n",
    "plt.subplot(1,2, 1)\n",
    "plt.plot(x_test, pdf)\n",
    "plt.ylim([0,10])\n",
    "\n",
    "kde2 = KernelDensity(kernel='gaussian', bandwidth=0.01).fit(x2[:, np.newaxis])\n",
    "log_pdf2 = kde2.score_samples(x_test[:, np.newaxis])\n",
    "pdf2 = np.exp(log_pdf2)\n",
    "\n",
    "plt.subplot(1, 2, 2)\n",
    "plt.plot(x_test, pdf2)\n",
    "plt.ylim([0,10])\n"
   ]
  },
  {
   "cell_type": "code",
   "execution_count": 24,
   "metadata": {
    "collapsed": false
   },
   "outputs": [
    {
     "name": "stdout",
     "output_type": "stream",
     "text": [
      "(0.69511867576684216, 0.29634547911825843)\n"
     ]
    }
   ],
   "source": [
    "fa1 = np.mean(pdf[x_test>0.8])\n",
    "fb1 = np.mean(pdf2[x_test>0.8])\n",
    "print(fa1, fb1)"
   ]
  },
  {
   "cell_type": "code",
   "execution_count": 25,
   "metadata": {
    "collapsed": true
   },
   "outputs": [],
   "source": [
    "na = len(x1)\n",
    "nb = len(x2)"
   ]
  },
  {
   "cell_type": "code",
   "execution_count": 26,
   "metadata": {
    "collapsed": true
   },
   "outputs": [],
   "source": [
    "fa = pdf\n",
    "fb = pdf2"
   ]
  },
  {
   "cell_type": "code",
   "execution_count": null,
   "metadata": {
    "collapsed": false
   },
   "outputs": [],
   "source": []
  },
  {
   "cell_type": "code",
   "execution_count": 27,
   "metadata": {
    "collapsed": false
   },
   "outputs": [],
   "source": [
    "ta_large = 1.0\n",
    "ta_small = 0.0\n",
    "\n",
    "tas = []\n",
    "fdrs = []\n",
    "tds = []\n",
    "tbs = []\n",
    "for ta in np.arange(0,0.5, 0.001):\n",
    "\n",
    "    fa_t = np.exp(kde1.score_samples(np.array([[ta]])))[0]\n",
    "\n",
    "    #print np.min(np.abs(fb[fb< 0.5] - fa_t))\n",
    "    tb = x_test[np.where(np.abs(fb - fa_t) == np.min(np.abs(fb - fa_t)))[0]][0]\n",
    "\n",
    "    #print ta,fa_t, tb\n",
    "    fp = ta * fa1 * na + tb * fb1 * nb\n",
    "    td = sum(x1 < ta) + sum(x2 < tb)\n",
    "\n",
    "    fdr = fp/float(td)\n",
    "    \n",
    "    tas.append(ta)\n",
    "    tbs.append(tb)\n",
    "    fdrs.append(fdr)\n",
    "    tds.append(td)"
   ]
  },
  {
   "cell_type": "code",
   "execution_count": 28,
   "metadata": {
    "collapsed": false
   },
   "outputs": [
    {
     "data": {
      "text/plain": [
       "[<matplotlib.lines.Line2D at 0x7f2d087ac790>]"
      ]
     },
     "execution_count": 28,
     "metadata": {},
     "output_type": "execute_result"
    },
    {
     "data": {
      "image/png": "[encoded data removed]",
      "text/plain": [
       "<matplotlib.figure.Figure at 0x7f2cd9c1e610>"
      ]
     },
     "metadata": {},
     "output_type": "display_data"
    }
   ],
   "source": [
    "plt.plot(tas, fdrs)"
   ]
  },
  {
   "cell_type": "code",
   "execution_count": 29,
   "metadata": {
    "collapsed": false
   },
   "outputs": [
    {
     "data": {
      "text/plain": [
       "[<matplotlib.lines.Line2D at 0x7f2d086dca10>]"
      ]
     },
     "execution_count": 29,
     "metadata": {},
     "output_type": "execute_result"
    },
    {
     "data": {
      "image/png": "[encoded data removed]",
      "text/plain": [
       "<matplotlib.figure.Figure at 0x7f2d087622d0>"
      ]
     },
     "metadata": {},
     "output_type": "display_data"
    }
   ],
   "source": [
    "plt.plot(tas, tds)"
   ]
  },
  {
   "cell_type": "code",
   "execution_count": 30,
   "metadata": {
    "collapsed": false
   },
   "outputs": [],
   "source": [
    "fdrs = np.array(fdrs)[1:]\n",
    "idx = np.where(np.min(np.abs(fdrs - 0.1)) == np.abs(fdrs - 0.1))[0]"
   ]
  },
  {
   "cell_type": "code",
   "execution_count": 46,
   "metadata": {
    "collapsed": false
   },
   "outputs": [
    {
     "name": "stdout",
     "output_type": "stream",
     "text": [
      "10017\n",
      "0.1487\n",
      "0.08\n"
     ]
    }
   ],
   "source": [
    "print tds[idx[0]]\n",
    "print tbs[idx[0]]\n",
    "print tas[idx[0]]\n",
    "ta_opt = tas[idx[0]]\n",
    "tb_opt = tbs[idx[0]]\n"
   ]
  },
  {
   "cell_type": "code",
   "execution_count": 32,
   "metadata": {
    "collapsed": false
   },
   "outputs": [],
   "source": [
    "df.to_csv('1.csv')"
   ]
  },
  {
   "cell_type": "code",
   "execution_count": 48,
   "metadata": {
    "collapsed": false
   },
   "outputs": [
    {
     "data": {
      "text/plain": [
       "9076"
      ]
     },
     "execution_count": 48,
     "metadata": {},
     "output_type": "execute_result"
    }
   ],
   "source": [
    "sum(h_1[x1 < ta_opt]) + sum(h_2[x2 < tb_opt])"
   ]
  },
  {
   "cell_type": "code",
   "execution_count": 49,
   "metadata": {
    "collapsed": false
   },
   "outputs": [
    {
     "data": {
      "text/plain": [
       "10017"
      ]
     },
     "execution_count": 49,
     "metadata": {},
     "output_type": "execute_result"
    }
   ],
   "source": [
    "sum(x1 < ta_opt) + sum(x2 < tb_opt)"
   ]
  },
  {
   "cell_type": "code",
   "execution_count": 55,
   "metadata": {
    "collapsed": false
   },
   "outputs": [
    {
     "name": "stdout",
     "output_type": "stream",
     "text": [
      "0.906059698513\n"
     ]
    }
   ],
   "source": [
    "precision = float(sum(h_1[x1 < ta_opt]) + sum(h_2[x2 < tb_opt])) / float(sum(x1 < ta_opt) + sum(x2 < tb_opt))\n",
    "print precision"
   ]
  },
  {
   "cell_type": "code",
   "execution_count": 54,
   "metadata": {
    "collapsed": false
   },
   "outputs": [
    {
     "name": "stdout",
     "output_type": "stream",
     "text": [
      "0.898524898525\n"
     ]
    }
   ],
   "source": [
    "recall = float(sum(h_1[x1 < ta_opt]) + sum(h_2[x2 < tb_opt]))/ (sum(h_1) + sum(h_2))\n",
    "print recall"
   ]
  },
  {
   "cell_type": "code",
   "execution_count": 56,
   "metadata": {
    "collapsed": false
   },
   "outputs": [
    {
     "name": "stdout",
     "output_type": "stream",
     "text": [
      "0.0939403014875\n"
     ]
    }
   ],
   "source": [
    "fdr = 1 - precision\n",
    "print fdr"
   ]
  },
  {
   "cell_type": "code",
   "execution_count": null,
   "metadata": {
    "collapsed": true
   },
   "outputs": [],
   "source": []
  }
 ],
 "metadata": {
  "kernelspec": {
   "display_name": "Python 2",
   "language": "python",
   "name": "python2"
  },
  "language_info": {
   "codemirror_mode": {
    "name": "ipython",
    "version": 2
   },
   "file_extension": ".py",
   "mimetype": "text/x-python",
   "name": "python",
   "nbconvert_exporter": "python",
   "pygments_lexer": "ipython2",
   "version": "2.7.12"
  }
 },
 "nbformat": 4,
 "nbformat_minor": 2
}
