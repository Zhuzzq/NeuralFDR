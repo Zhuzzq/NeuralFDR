{
 "cells": [
  {
   "cell_type": "code",
   "execution_count": 178,
   "metadata": {
    "collapsed": true
   },
   "outputs": [],
   "source": [
    "import numpy as np\n",
    "import matplotlib.pyplot as plt\n",
    "from matplotlib import mlab\n",
    "%matplotlib inline"
   ]
  },
  {
   "cell_type": "code",
   "execution_count": 179,
   "metadata": {
    "collapsed": false
   },
   "outputs": [],
   "source": [
    "## For torch\n",
    "import torch\n",
    "import torch.nn as nn\n",
    "from torch.autograd import Variable\n",
    "import torch.optim as optim"
   ]
  },
  {
   "cell_type": "code",
   "execution_count": 180,
   "metadata": {
    "collapsed": true
   },
   "outputs": [],
   "source": [
    "## For clustering\n",
    "from numpy import array\n",
    "from scipy.cluster.vq import kmeans2"
   ]
  },
  {
   "cell_type": "code",
   "execution_count": 181,
   "metadata": {
    "collapsed": true
   },
   "outputs": [],
   "source": [
    "# Fitting a beta distrbution \n",
    "from scipy.stats import beta"
   ]
  },
  {
   "cell_type": "code",
   "execution_count": 221,
   "metadata": {
    "collapsed": false
   },
   "outputs": [],
   "source": [
    "def generate_data_2D(job=0, n_samples=10000,data_vis=0):\n",
    "    if job == 0: # Gaussian mixtures \n",
    "        x1 = np.random.uniform(-1,1,size = n_samples)\n",
    "        x2 = np.random.uniform(-1,1,size = n_samples)\n",
    "        pi1 = ((mlab.bivariate_normal(x1, x2, 0.25, 0.25, -0.5, -0.2)+\n",
    "               mlab.bivariate_normal(x1, x2, 0.25, 0.25, 0.7, 0.5))/2).clip(max=1)        \n",
    "        p = np.zeros(n_samples)\n",
    "        h = np.zeros(n_samples)\n",
    "               \n",
    "        for i in range(n_samples):\n",
    "            rnd = np.random.uniform()\n",
    "            if rnd > pi1[i]:\n",
    "                p[i] = np.random.uniform()\n",
    "                h[i] = 0\n",
    "            else:\n",
    "                p[i] = np.random.beta(a = 0.3, b = 4)\n",
    "                h[i] = 1\n",
    "        X = np.concatenate([[x1],[x2]]).T\n",
    "        \n",
    "        if data_vis == 1:\n",
    "            fig = plt.figure()\n",
    "            ax1 = fig.add_subplot(121)\n",
    "            x_grid = np.arange(-1, 1, 1/100.0)\n",
    "            y_grid = np.arange(-1, 1, 1/100.0)\n",
    "            X_grid, Y_grid = np.meshgrid(x_grid, y_grid)\n",
    "            pi1_grid = ((mlab.bivariate_normal(X_grid, Y_grid, 0.25, 0.25, -0.5, -0.2)+\n",
    "               mlab.bivariate_normal(X_grid, Y_grid, 0.25, 0.25, 0.7, 0.5))/2).clip(max=1)  \n",
    "            ax1.pcolor(X_grid, Y_grid, pi1_grid)\n",
    "            \n",
    "            ax2 = fig.add_subplot(122)\n",
    "            alt=ax2.scatter(x1[h==1][1:50], x2[h==1][1:50],color='r')\n",
    "            nul=ax2.scatter(x1[h==0][1:50], x2[h==0][1:50],color='b')\n",
    "            ax2.legend((alt,nul),('50 alternatives', '50 nulls'))\n",
    "            \n",
    "        return p, h, X\n",
    "    if job == 1: # Linear trend\n",
    "        pass\n",
    "    if job == 2: # Gaussian mixture + linear trend\n",
    "        pass\n",
    "    \n",
    "def BH(x, alpha = 0.05):\n",
    "    x_s = sorted(x)\n",
    "    n = len(x_s)\n",
    "    ic = 0\n",
    "    for i in range(n):\n",
    "        if x_s[i] < i*alpha/float(n):\n",
    "            ic = i\n",
    "    return ic, x_s[ic]\n",
    "\n",
    "def Storey_BH(x, alpha = 0.05, lamb=0.4):\n",
    "    pi0_hat=np.divide(np.sum(x>lamb),x.shape[0] *(1-lamb))\n",
    "    alpha /= pi0_hat\n",
    "    x_s = sorted(x)\n",
    "    n = len(x_s)\n",
    "    ic = 0\n",
    "    for i in range(n):\n",
    "        if x_s[i] < i*alpha/float(n):\n",
    "            ic = i\n",
    "    return ic, x_s[ic], pi0_hat\n",
    "\n",
    "def p_value_beta_fit(p, lamb=0.8, bin_num=50, vis=0):\n",
    "    pi_0=np.divide(np.sum(p>lamb), p.shape[0] * (1-lamb))\n",
    "    temp_p=np.zeros([0])\n",
    "    step_size=np.divide(1,np.float(bin_num))\n",
    "    fil_num=np.int(np.divide(pi_0*p.shape[0],bin_num))+1\n",
    "    for i in range(bin_num):\n",
    "        p1=p[p>step_size*(i-1)]\n",
    "        p1=p1[p1 <= step_size*i]\n",
    "        choice_num= np.max(p1.shape[0] - fil_num,0)\n",
    "        if choice_num > 1:\n",
    "            choice=np.random.choice(p1.shape[0], choice_num)\n",
    "            temp_p=np.concatenate([temp_p,p1[choice]]).T\n",
    "    if vis==1:\n",
    "        plt.figure()\n",
    "        plt.hist(temp_p, bins=100, normed=True)       \n",
    "    a, b, loc, scale = beta.fit(temp_p,floc=0,fscale=1)\n",
    "    return pi_0, a, b\n",
    "def beta_mixture_pdf(x,pi_0,a,b):\n",
    "    return beta.pdf(x,a,b)*(1-pi_0)+pi_0\n",
    "\n",
    "def Storey_BH(x, alpha = 0.05, lamb=0.4):\n",
    "    pi0_hat=np.divide(np.sum(x>lamb),x.shape[0] *(1-lamb))\n",
    "    alpha /= pi0_hat\n",
    "    x_s = sorted(x)\n",
    "    n = len(x_s)\n",
    "    ic = 0\n",
    "    for i in range(n):\n",
    "        if x_s[i] < i*alpha/float(n):\n",
    "            ic = i\n",
    "    return ic, x_s[ic], pi0_hat\n",
    "\n",
    "def Opt_t_cal_discrete(p, h, X, num_case=2,step_size=0.0001,ub=0.05,n_samples=10000,alpha=0.05):\n",
    "    # Fit the beta mixture parameters\n",
    "    fit_param=np.zeros([num_case, 3])\n",
    "    for i in range(num_case):\n",
    "        fit_param[i,:]=p_value_beta_fit(p[X==i])\n",
    "\n",
    "    # Calculating the ratios \n",
    "    t_opt=np.zeros([num_case])\n",
    "    max_idx=np.argmin(fit_param[:,0])\n",
    "    x_grid = np.arange(0, ub, step_size)\n",
    "    t_ratio=np.zeros([num_case,x_grid.shape[0]])\n",
    "    for i in range(num_case):\n",
    "        t_ratio[i,:] = np.divide(beta_mixture_pdf(\n",
    "            x_grid,fit_param[i,0],fit_param[i,1],fit_param[i,2]), fit_param[i,0])\n",
    "\n",
    "    # Increase the threshold\n",
    "    for i in range(len(x_grid)):\n",
    "        t=np.zeros([num_case])\n",
    "        # undate the search optimal threshold\n",
    "        t[max_idx]=x_grid[i]\n",
    "        c=t_ratio[max_idx,i]\n",
    "        for j in range(num_case):\n",
    "            if j != max_idx: \n",
    "                for k in range(len(x_grid)):\n",
    "                    if k == len(x_grid)-1:\n",
    "                        t[j]=x_grid[k]\n",
    "                        break\n",
    "                    if t_ratio[j,k+1]<c:\n",
    "                        t[j]=x_grid[k]\n",
    "                        break\n",
    "        # calculate the FDR\n",
    "        num_dis=0 \n",
    "        num_fd =0 \n",
    "        for i in range(num_case):\n",
    "            num_dis+=np.sum(p[X==i] < t[i])\n",
    "            num_fd+=np.sum(X==i)*t[i]*fit_param[i,0]\n",
    "\n",
    "        if np.divide(num_fd,np.float(np.amax([num_dis,1])))<alpha:\n",
    "            t_opt=t\n",
    "        else:\n",
    "            break\n",
    "    return t_opt\n",
    "\n",
    "def result_summary(h,pred):\n",
    "    print(\"Num of alternatives:\",np.sum(h))\n",
    "    print(\"Num of discovery:\",np.sum(pred))\n",
    "    print(\"Num of true discovery:\",np.sum(pred * h))\n",
    "    print(\"Actual FDR:\", 1-np.sum(pred * h) / np.sum(pred))\n",
    "    \n",
    "def softmax_prob_cal(X,Centorid, intensity=1):\n",
    "    dist=np.zeros([n_samples,num_clusters])\n",
    "    dist+=np.sum(X*X,axis=1, keepdims=True)\n",
    "    dist+=np.sum(centroid.T*centroid.T,axis=0, keepdims=True)\n",
    "    dist -= 2*X.dot(centroid.T)\n",
    "    dist=np.exp(dist*intensity)\n",
    "    dist /= np.sum(dist,axis=1, keepdims=True)\n",
    "    return dist"
   ]
  },
  {
   "cell_type": "markdown",
   "metadata": {},
   "source": [
    "Here I copied the result for different initialization methods: \n",
    "\n",
    "- BHq constant initialization\n",
    "\n",
    "('Num of alternatives:', 2274.0)\n",
    "('Num of discovery:', 992.0)\n",
    "('Num of true discovery:', 982.0)\n",
    "('Actual FDR:', 0.010080645161290369)\n",
    "\n",
    "- Storey BHq constant initialization \n",
    "\n",
    "('Num of alternatives:', 2274.0)\n",
    "('Num of discovery:', 987.0)\n",
    "('Num of true discovery:', 964.0)\n",
    "('Actual FDR:', 0.023302938196555267)\n",
    "\n",
    "- K-cluster initialization\n",
    "\n",
    "('Num of alternatives:', 2274.0)\n",
    "('Num of discovery:', 1090.0)\n",
    "('Num of true discovery:', 1069.0)\n",
    "('Actual FDR:', 0.019266055045871533)\n",
    "\n",
    "- Soft K-cluster initialization\n",
    "\n",
    "('Num of alternatives:', 2274.0)\n",
    "('Num of discovery:', 1012.0)\n",
    "('Num of true discovery:', 997.0)\n",
    "('Actual FDR:', 0.014822134387351804)"
   ]
  },
  {
   "cell_type": "code",
   "execution_count": 222,
   "metadata": {
    "collapsed": false
   },
   "outputs": [
    {
     "name": "stdout",
     "output_type": "stream",
     "text": [
      "('Num of alt: ', 2242.0)\n",
      "('True null prop: ', 0.77580000000000005)\n",
      "('BH: num of dis, threshold:', 681, 0.0033953484581445851)\n",
      "('Storey_BH: num of dis, threshold, null esti', 774, 0.0049578217007530748, 0.78033333333333332)\n"
     ]
    },
    {
     "data": {
      "image/png": "[encoded data removed]",
      "text/plain": [
       "<matplotlib.figure.Figure at 0x7fef4e8425d0>"
      ]
     },
     "metadata": {},
     "output_type": "display_data"
    }
   ],
   "source": [
    "n_samples=10000\n",
    "p, h, X = generate_data_2D(data_vis=1,n_samples=n_samples)\n",
    "print(\"Num of alt: \", np.sum(h))\n",
    "print(\"True null prop: \", 1-np.sum(h)/n_samples)\n",
    "dic_BH, t_BH = BH(p)\n",
    "print(\"BH: num of dis, threshold:\", dic_BH,t_BH)\n",
    "dic_SBH, t_SBH, pi0_SBH = Storey_BH(p)\n",
    "print(\"Storey_BH: num of dis, threshold, null esti\", dic_SBH, t_SBH, pi0_SBH)"
   ]
  },
  {
   "cell_type": "code",
   "execution_count": 223,
   "metadata": {
    "collapsed": false
   },
   "outputs": [],
   "source": [
    "## Initialization\n",
    "# # 1. BHq constant initialization \n",
    "# t_init = t_BH * np.ones([n_samples, 1])\n",
    "\n",
    "# # 2. Storey BHq constant initialization \n",
    "# t_init = t_SBH * np.ones([n_samples, 1])\n",
    "\n",
    "\n",
    "# 3. K-clster initilization, Storey_BH for constant calculation\n",
    "num_clusters=4\n",
    "centroid, labels = kmeans2(X,num_clusters)\n",
    "t_init=np.ones([n_samples,1])\n",
    "t_opt=Opt_t_cal_discrete(p, h, labels, num_case=num_clusters) \n",
    "\n",
    "# # 3.1 Step function\n",
    "# for i in range(num_clusters):\n",
    "#     t_init[labels==i]=t_opt[i]\n",
    "\n",
    "# 3.2 # Soft initialization: weighed average\n",
    "softmax_pr=softmax_prob_cal(X,centroid,intensity=2)\n",
    "t_init = softmax_pr.dot(np.reshape(t_opt,[num_clusters,1]))\n",
    "\n",
    "# # 4. Soft K-clster initilization, Storey_BH for constant calculation\n",
    "# num_clusters=4\n",
    "# centroid, labels = kmeans2(X,num_clusters)\n",
    "# softmax_pr=softmax_prob_cal(X,centroid)\n",
    "\n",
    "# for i in range(n_samples):\n",
    "#     labels[i]=np.random.choice(np.arange(num_clusters), p=softmax_pr[i,:])\n",
    "# t_init=np.ones([n_samples,1])\n",
    "# t_opt_soft=Opt_t_cal_discrete(p, h, labels, num_case=num_clusters)  \n",
    "# print(t_opt_soft)"
   ]
  },
  {
   "cell_type": "code",
   "execution_count": 203,
   "metadata": {
    "collapsed": false
   },
   "outputs": [
    {
     "data": {
      "text/plain": [
       "array([0, 1, 2, 3])"
      ]
     },
     "execution_count": 203,
     "metadata": {},
     "output_type": "execute_result"
    }
   ],
   "source": [
    "np.arange(num_clusters)"
   ]
  },
  {
   "cell_type": "code",
   "execution_count": 152,
   "metadata": {
    "collapsed": false
   },
   "outputs": [
    {
     "name": "stdout",
     "output_type": "stream",
     "text": [
      "('Num of alternatives:', 2204.0)\n",
      "('Num of discovery:', 1093)\n",
      "('Num of true discovery:', 1048.0)\n",
      "('Actual FDR:', 0.041171088746569051)\n"
     ]
    }
   ],
   "source": [
    "pred=(p<t_init.T)*1\n",
    "result_summary(h,pred)"
   ]
  },
  {
   "cell_type": "code",
   "execution_count": 224,
   "metadata": {
    "collapsed": false
   },
   "outputs": [
    {
     "name": "stdout",
     "output_type": "stream",
     "text": [
      "0.00339534845814\n",
      "[[-0.49717347  0.49645602]\n",
      " [-0.48035045 -0.49893529]\n",
      " [ 0.51307795 -0.4812678 ]\n",
      " [ 0.48780854  0.51446202]]\n",
      "[ 0.001   0.0119  0.      0.022 ]\n"
     ]
    }
   ],
   "source": [
    "print(t_BH)\n",
    "print(centroid)\n",
    "print(t_opt)"
   ]
  },
  {
   "cell_type": "code",
   "execution_count": 225,
   "metadata": {
    "collapsed": true
   },
   "outputs": [],
   "source": [
    "network = nn.Sequential(\n",
    "        nn.Linear(2,10),\n",
    "        nn.LeakyReLU(0.1),\n",
    "        nn.Linear(10,10),\n",
    "        nn.LeakyReLU(0.1),\n",
    "        nn.Linear(10,10),\n",
    "        nn.LeakyReLU(0.1),\n",
    "        nn.Linear(10,10),\n",
    "        nn.LeakyReLU(0.1),\n",
    "        nn.Linear(10,10),\n",
    "        nn.LeakyReLU(0.1),\n",
    "        nn.Linear(10,10),\n",
    "        nn.LeakyReLU(0.1),\n",
    "        nn.Linear(10,1),\n",
    "        nn.Sigmoid()\n",
    ")\n",
    "\n",
    "soft_compare = nn.Sigmoid()\n",
    "optimizer = optim.Adagrad(network.parameters(), lr = 0.01)\n",
    "\n",
    "for item in network.parameters():\n",
    "    item.data.uniform_(-0.05, 0.05)\n",
    "\n",
    "l1loss = nn.L1Loss()"
   ]
  },
  {
   "cell_type": "code",
   "execution_count": 226,
   "metadata": {
    "collapsed": false
   },
   "outputs": [
    {
     "data": {
      "text/plain": [
       "[<matplotlib.lines.Line2D at 0x7fef460d9410>]"
      ]
     },
     "execution_count": 226,
     "metadata": {},
     "output_type": "execute_result"
    },
    {
     "data": {
      "image/png": "[encoded data removed]",
      "text/plain": [
       "<matplotlib.figure.Figure at 0x7fef4e838810>"
      ]
     },
     "metadata": {},
     "output_type": "display_data"
    }
   ],
   "source": [
    "loss_hist = []\n",
    "batch_size = 2000\n",
    "pBH = BH(p)[1]\n",
    "for iteration in range(2000):\n",
    "    \n",
    "    choice = np.random.choice(n_samples, batch_size)\n",
    "    \n",
    "    x_input = Variable(torch.from_numpy(X[choice,:].astype(np.float32).reshape(batch_size,2)))\n",
    "    #p_input = Variable(torch.from_numpy(p[choice].astype(np.float32).reshape(batch_size,1)))\n",
    "#     target = Variable(torch.from_numpy(pBH * np.ones((batch_size, 1))\n",
    "#                                        .astype(np.float32).reshape(batch_size,1)))\n",
    "    target = Variable(torch.from_numpy(t_init[choice,:]\n",
    "                                       .astype(np.float32).reshape(batch_size,1)))\n",
    "    \n",
    "    optimizer.zero_grad()\n",
    "    output = network.forward(x_input) * 0.1\n",
    "    \n",
    "    loss = l1loss(output, target)\n",
    "    \n",
    "    loss.backward()\n",
    "    optimizer.step()\n",
    "    loss_hist.append(loss.data[0])\n",
    "plt.plot(np.log(loss_hist))"
   ]
  },
  {
   "cell_type": "code",
   "execution_count": 235,
   "metadata": {
    "collapsed": false
   },
   "outputs": [
    {
     "name": "stdout",
     "output_type": "stream",
     "text": [
      "0\n",
      "500\n",
      "1000\n",
      "1500\n",
      "2000\n",
      "2500\n",
      "3000\n",
      "3500\n",
      "4000\n",
      "4500\n",
      "5000\n",
      "5500\n",
      "6000\n",
      "6500\n",
      "7000\n",
      "7500\n",
      "8000\n",
      "8500\n",
      "9000\n",
      "9500\n",
      "10000\n",
      "10500\n",
      "11000\n",
      "11500\n",
      "12000\n",
      "12500\n",
      "13000\n",
      "13500\n",
      "14000\n",
      "14500\n",
      "15000\n",
      "15500\n",
      "16000\n",
      "16500\n",
      "17000\n",
      "17500\n",
      "18000\n",
      "18500\n",
      "19000\n",
      "19500\n",
      "('s', Variable containing:\n",
      " 0.1266\n",
      "[torch.FloatTensor of size 1]\n",
      ")\n",
      "('s2', Variable containing:\n",
      "1.00000e-03 *\n",
      "  1.0299\n",
      "[torch.FloatTensor of size 1]\n",
      ")\n"
     ]
    },
    {
     "data": {
      "image/png": "[encoded data removed]",
      "text/plain": [
       "<matplotlib.figure.Figure at 0x7fef413d4f10>"
      ]
     },
     "metadata": {},
     "output_type": "display_data"
    }
   ],
   "source": [
    "\n",
    "loss_hist = []\n",
    "batch_size = 10000\n",
    "n_epoch=20000\n",
    "for iteration in range(n_epoch):\n",
    "    if iteration % 500 == 0:\n",
    "        print iteration\n",
    "    choice = np.arange(batch_size)\n",
    "    \n",
    "    x_input = Variable(torch.from_numpy(X[choice,:].astype(np.float32).reshape(batch_size,2)))\n",
    "    p_input = Variable(torch.from_numpy(p[choice].astype(np.float32).reshape(batch_size,1)))\n",
    "    \n",
    "    \n",
    "    optimizer.zero_grad()\n",
    "    output = network.forward(x_input) * 0.1\n",
    "    s = torch.sum(soft_compare((output - p_input) * 1e3)) / batch_size\n",
    "    s2 = torch.sum(soft_compare((p_input - (1-output)) * 1e3)) / batch_size\n",
    "    \n",
    "    gain = s  - 2 * soft_compare((s2 - s*0.05) * 50) \n",
    "    \n",
    "    loss = -gain\n",
    "    loss.backward()\n",
    "    optimizer.step()\n",
    "    loss_hist.append(loss.data[0])\n",
    "\n",
    "plt.plot(loss_hist)\n",
    "print('s',s)\n",
    "print('s2', s2)"
   ]
  },
  {
   "cell_type": "code",
   "execution_count": 236,
   "metadata": {
    "collapsed": false,
    "scrolled": true
   },
   "outputs": [
    {
     "name": "stdout",
     "output_type": "stream",
     "text": [
      "('Num of alternatives:', 2242.0)\n",
      "('Num of discovery:', 1269.0)\n",
      "('Num of true discovery:', 1248.0)\n",
      "('Actual FDR:', 0.016548463356974019)\n",
      "Learned rejection threshold:\n"
     ]
    },
    {
     "data": {
      "text/plain": [
       "<matplotlib.colorbar.Colorbar at 0x7fef3e89c290>"
      ]
     },
     "execution_count": 236,
     "metadata": {},
     "output_type": "execute_result"
    },
    {
     "data": {
      "image/png": "[encoded data removed]",
      "text/plain": [
       "<matplotlib.figure.Figure at 0x7fef46141750>"
      ]
     },
     "metadata": {},
     "output_type": "display_data"
    }
   ],
   "source": [
    "x_input = Variable(torch.from_numpy(X.astype(np.float32).reshape(n_samples ,2)))\n",
    "p_input = Variable(torch.from_numpy(p.astype(np.float32).reshape(n_samples ,1)))\n",
    "\n",
    "output = network.forward(x_input) * 0.1\n",
    "pred = (p_input < output).data.numpy()\n",
    "pred = pred[:,0].astype(np.float32)\n",
    "\n",
    "print(\"Num of alternatives:\",np.sum(h))\n",
    "print(\"Num of discovery:\",np.sum(pred))\n",
    "print(\"Num of true discovery:\",np.sum(pred * h))\n",
    "print(\"Actual FDR:\", 1-np.sum(pred * h) / np.sum(pred))\n",
    "\n",
    "# Visuaizing the rejection threshold\n",
    "x_grid = np.arange(-1, 1, 1/100.0)\n",
    "y_grid = np.arange(-1, 1, 1/100.0)\n",
    "X_grid, Y_grid = np.meshgrid(x_grid, y_grid)\n",
    "\n",
    "x_in = Variable(torch.from_numpy(\n",
    "    np.concatenate([[X_grid.flatten()], [Y_grid.flatten()]]).T.astype(np.float32)))\n",
    "out = network(x_in)\n",
    "z = out.data.numpy().reshape(X_grid.shape)\n",
    "\n",
    "print('Learned rejection threshold:')\n",
    "plt.figure()\n",
    "plt.pcolor(X_grid, Y_grid, z*0.1)\n",
    "plt.colorbar()"
   ]
  },
  {
   "cell_type": "code",
   "execution_count": null,
   "metadata": {
    "collapsed": true
   },
   "outputs": [],
   "source": []
  },
  {
   "cell_type": "code",
   "execution_count": null,
   "metadata": {
    "collapsed": true
   },
   "outputs": [],
   "source": []
  }
 ],
 "metadata": {
  "kernelspec": {
   "display_name": "Python 2",
   "language": "python",
   "name": "python2"
  },
  "language_info": {
   "codemirror_mode": {
    "name": "ipython",
    "version": 2
   },
   "file_extension": ".py",
   "mimetype": "text/x-python",
   "name": "python",
   "nbconvert_exporter": "python",
   "pygments_lexer": "ipython2",
   "version": "2.7.12"
  }
 },
 "nbformat": 4,
 "nbformat_minor": 2
}
