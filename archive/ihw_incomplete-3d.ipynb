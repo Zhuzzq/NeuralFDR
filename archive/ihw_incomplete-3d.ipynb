{
 "cells": [
  {
   "cell_type": "code",
   "execution_count": 7,
   "metadata": {
    "collapsed": false
   },
   "outputs": [],
   "source": [
    "data = read.csv('data/gtex_group3d.csv', head=TRUE)\n",
    "library('IHW')"
   ]
  },
  {
   "cell_type": "code",
   "execution_count": 8,
   "metadata": {
    "collapsed": true
   },
   "outputs": [],
   "source": [
    "n_group = length(table(data$group))"
   ]
  },
  {
   "cell_type": "code",
   "execution_count": 25,
   "metadata": {
    "collapsed": true
   },
   "outputs": [],
   "source": [
    "m_groups = as.table(setNames(c(752912.0,916.0,703991.0,547605.0,849600.0,6151.0,5186.0,893335.0,840521.0,210291.0,798579.0,820472.0,3079.0,766545.0,663506.0,791356.0,750571.0,390518.0,5007.0,823752.0), 1:20))"
   ]
  },
  {
   "cell_type": "code",
   "execution_count": 26,
   "metadata": {
    "collapsed": false
   },
   "outputs": [
    {
     "data": {
      "text/plain": [
       "     1      2      3      4      5      6      7      8      9     10     11 \n",
       "752912    916 703991 547605 849600   6151   5186 893335 840521 210291 798579 \n",
       "    12     13     14     15     16     17     18     19     20 \n",
       "820472   3079 766545 663506 791356 750571 390518   5007 823752 "
      ]
     },
     "metadata": {},
     "output_type": "display_data"
    }
   ],
   "source": [
    "m_groups"
   ]
  },
  {
   "cell_type": "code",
   "execution_count": 30,
   "metadata": {
    "collapsed": false
   },
   "outputs": [
    {
     "name": "stderr",
     "output_type": "stream",
     "text": [
      "We recommend that you supply (many) more than 1000 p-values for meaningful data-driven hypothesis weighting results.\n"
     ]
    }
   ],
   "source": [
    "ihwRes <- ihw(data$p_value , as.factor(data$group), alpha = 0.1, m_groups = m_groups, nfolds=5L, lambdas = Inf)"
   ]
  },
  {
   "cell_type": "code",
   "execution_count": 31,
   "metadata": {
    "collapsed": false
   },
   "outputs": [
    {
     "data": {
      "text/html": [
       "35598"
      ],
      "text/latex": [
       "35598"
      ],
      "text/markdown": [
       "35598"
      ],
      "text/plain": [
       "[1] 35598"
      ]
     },
     "metadata": {},
     "output_type": "display_data"
    }
   ],
   "source": [
    "rejections(ihwRes)"
   ]
  },
  {
   "cell_type": "code",
   "execution_count": null,
   "metadata": {
    "collapsed": false
   },
   "outputs": [],
   "source": [
    "plot(ihwRes)"
   ]
  },
  {
   "cell_type": "code",
   "execution_count": null,
   "metadata": {
    "collapsed": false
   },
   "outputs": [],
   "source": [
    "sum(m_groups)"
   ]
  },
  {
   "cell_type": "code",
   "execution_count": null,
   "metadata": {
    "collapsed": true
   },
   "outputs": [],
   "source": []
  }
 ],
 "metadata": {
  "kernelspec": {
   "display_name": "R 3.3",
   "language": "R",
   "name": "ir33"
  },
  "language_info": {
   "codemirror_mode": "r",
   "file_extension": ".r",
   "mimetype": "text/x-r-source",
   "name": "R",
   "pygments_lexer": "r",
   "version": "3.3.3"
  }
 },
 "nbformat": 4,
 "nbformat_minor": 2
}
