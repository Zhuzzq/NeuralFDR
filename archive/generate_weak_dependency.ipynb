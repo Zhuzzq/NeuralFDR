{
 "cells": [
  {
   "cell_type": "code",
   "execution_count": 148,
   "metadata": {
    "collapsed": true
   },
   "outputs": [],
   "source": [
    "import numpy as np\n",
    "from scipy import stats\n",
    "import matplotlib.pyplot as plt\n",
    "%matplotlib inline"
   ]
  },
  {
   "cell_type": "code",
   "execution_count": 149,
   "metadata": {
    "collapsed": true
   },
   "outputs": [],
   "source": [
    "def generate_data_1D_cont(pi1, X, job=0):\n",
    "    cov = np.zeros((10,10))\n",
    "    for i in range(10):\n",
    "        for j in range(i,10):\n",
    "            if i == j:\n",
    "                cov[i,j] = 1\n",
    "            elif i < j and j <= 4:\n",
    "                cov[i,j] = 0.25\n",
    "            elif i <= 4 and j > 4:\n",
    "                cov[i,j] = -0.25\n",
    "\n",
    "    for i in range(10):\n",
    "        for j in range(i):\n",
    "            cov[i,j] = cov[j,i]\n",
    "    \n",
    "    n_samples = len(X)\n",
    "    \n",
    "    mean = np.zeros(10,)\n",
    "    mean_alt = np.ones(10,) * 2\n",
    "    values = np.random.multivariate_normal(mean, cov, n_samples / 10 ).T\n",
    "    values_alt = np.random.multivariate_normal(mean_alt, cov, n_samples / 10).T\n",
    "    null_z = values.T.flatten()\n",
    "    alt_z = values_alt.T.flatten()\n",
    "    null_p = 1 - stats.norm.cdf(null_z)\n",
    "    alt_p = 1 - stats.norm.cdf(alt_z)\n",
    "    \n",
    "    null_p = iter(null_p)\n",
    "    alt_p = iter(alt_p)\n",
    "    \n",
    "    p = np.zeros(n_samples)\n",
    "    h = np.zeros(n_samples)\n",
    "    \n",
    "    for i in range(n_samples):\n",
    "        rnd = np.random.uniform()\n",
    "        if rnd > pi1[i]:\n",
    "            p[i] = null_p.next()\n",
    "            h[i] = 0\n",
    "        else:\n",
    "            p[i] = alt_p.next()\n",
    "            h[i] = 1\n",
    "    return p, h, X\n",
    "\n"
   ]
  },
  {
   "cell_type": "code",
   "execution_count": 150,
   "metadata": {
    "collapsed": true
   },
   "outputs": [],
   "source": [
    "mu1 = 1\n",
    "mu2 = 4\n",
    "X = np.random.uniform(high = 5, size = (100000,))\n",
    "X = np.sort(X)\n",
    "pi1 = np.exp(-(X-mu1) ** 2/0.2) * 0.5 + np.exp(-(X-mu2) ** 2 / 0.1)\n",
    "p, h, x = generate_data_1D_cont(pi1, X)"
   ]
  },
  {
   "cell_type": "code",
   "execution_count": 151,
   "metadata": {
    "collapsed": true
   },
   "outputs": [],
   "source": [
    "with open('data/data_1d_depend3.csv', 'w') as f:\n",
    "        f.write('x_value, p_value, h\\n')\n",
    "        for i in range(len(x)):\n",
    "            f.write(\"{}, {}, {}\\n\".format(x[i],p[i], h[i]))"
   ]
  },
  {
   "cell_type": "code",
   "execution_count": 152,
   "metadata": {},
   "outputs": [
    {
     "data": {
      "text/plain": [
       "19225.0"
      ]
     },
     "execution_count": 152,
     "metadata": {},
     "output_type": "execute_result"
    }
   ],
   "source": [
    "np.sum(h)"
   ]
  },
  {
   "cell_type": "code",
   "execution_count": 135,
   "metadata": {},
   "outputs": [
    {
     "name": "stdout",
     "output_type": "stream",
     "text": [
      "[  6.86787784e-05   7.52044224e-05   1.95727497e-04   2.74009417e-04\n",
      "   4.21584830e-04   4.22734455e-04   5.87592850e-04   5.94981460e-04\n",
      "   6.62260706e-04   6.66086814e-04   6.92275689e-04   7.17042782e-04\n",
      "   7.20898127e-04   8.44114587e-04   9.03311325e-04   9.64291982e-04\n",
      "   1.02007560e-03   1.15286299e-03   1.18363088e-03   1.19553104e-03\n",
      "   1.25880655e-03   1.27708894e-03   1.30050625e-03   1.33909861e-03\n",
      "   1.41021694e-03   1.42206985e-03   1.44212998e-03   1.47688939e-03\n",
      "   1.52102431e-03   1.53554520e-03   1.85877348e-03   1.88817735e-03\n",
      "   1.88966493e-03   1.91878633e-03   1.91901301e-03   1.94413248e-03\n",
      "   1.95528451e-03   1.97669066e-03   2.00496026e-03   2.08321348e-03\n",
      "   2.08820093e-03   2.10645989e-03   2.11146342e-03   2.12807497e-03\n",
      "   2.25102326e-03   2.26588104e-03   2.49087182e-03   2.53057173e-03\n",
      "   2.63490677e-03   2.65131184e-03   2.82183822e-03   2.86904366e-03\n",
      "   2.87534806e-03   2.88591781e-03   2.90329995e-03   2.92741669e-03\n",
      "   2.93377680e-03   2.99009752e-03   2.99531553e-03   3.04840887e-03\n",
      "   3.05409424e-03   3.23097814e-03   3.32611035e-03   3.40802141e-03\n",
      "   3.48024878e-03   3.53280127e-03   3.68690459e-03   3.82467571e-03\n",
      "   3.87457337e-03   3.91081285e-03   3.92255322e-03   3.93124112e-03\n",
      "   3.98663097e-03   4.10010969e-03   4.11738573e-03   4.13606144e-03\n",
      "   4.13953230e-03   4.15016954e-03   4.17109462e-03   4.18592908e-03\n",
      "   4.22329441e-03   4.26237318e-03   4.26591159e-03   4.33826985e-03\n",
      "   4.42736618e-03   4.48799959e-03   4.49170055e-03   4.49263815e-03\n",
      "   4.65235031e-03   4.69070459e-03   4.79047436e-03   4.83649679e-03\n",
      "   4.84030329e-03   4.85601788e-03   4.89973340e-03   4.93636242e-03\n",
      "   4.93681512e-03   4.97485106e-03   4.99782620e-03   5.04733732e-03]\n"
     ]
    }
   ],
   "source": [
    "print(X[:100])"
   ]
  },
  {
   "cell_type": "code",
   "execution_count": 138,
   "metadata": {},
   "outputs": [
    {
     "data": {
      "text/plain": [
       "array([[-0.41213806,  0.16676604,  0.09916507, ..., -0.2764129 ,\n",
       "         1.25491915, -0.62817246],\n",
       "       [-0.17127784,  1.50325565, -0.02520192, ...,  1.5539611 ,\n",
       "         0.34408451, -0.18809896],\n",
       "       [ 0.39845313,  0.6501015 ,  2.53359971, ..., -0.07420448,\n",
       "         2.00605202, -1.34861191],\n",
       "       ..., \n",
       "       [ 1.23181165,  0.3892811 ,  0.78722482, ...,  2.01620394,\n",
       "         0.23232371, -1.26393574],\n",
       "       [-1.60537741,  0.39189896, -0.32544914, ..., -0.22488711,\n",
       "        -1.7508691 ,  0.76236396],\n",
       "       [ 1.09873367,  0.72888149, -0.23069915, ..., -0.91050103,\n",
       "        -0.61216291,  0.50445697]])"
      ]
     },
     "execution_count": 138,
     "metadata": {},
     "output_type": "execute_result"
    }
   ],
   "source": [
    "values"
   ]
  },
  {
   "cell_type": "code",
   "execution_count": 147,
   "metadata": {},
   "outputs": [
    {
     "data": {
      "text/plain": [
       "array([-0.41213806, -0.17127784,  0.39845313, ..., -1.26393574,\n",
       "        0.76236396,  0.50445697])"
      ]
     },
     "execution_count": 147,
     "metadata": {},
     "output_type": "execute_result"
    }
   ],
   "source": [
    "values.T.flatten()"
   ]
  },
  {
   "cell_type": "code",
   "execution_count": null,
   "metadata": {
    "collapsed": true
   },
   "outputs": [],
   "source": []
  }
 ],
 "metadata": {
  "kernelspec": {
   "display_name": "Python 2",
   "language": "python",
   "name": "python2"
  },
  "language_info": {
   "codemirror_mode": {
    "name": "ipython",
    "version": 2
   },
   "file_extension": ".py",
   "mimetype": "text/x-python",
   "name": "python",
   "nbconvert_exporter": "python",
   "pygments_lexer": "ipython2",
   "version": "2.7.13"
  }
 },
 "nbformat": 4,
 "nbformat_minor": 2
}
