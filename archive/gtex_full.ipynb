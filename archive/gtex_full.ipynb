{
 "cells": [
  {
   "cell_type": "code",
   "execution_count": 1,
   "metadata": {
    "collapsed": true
   },
   "outputs": [],
   "source": [
    "import numpy as np"
   ]
  },
  {
   "cell_type": "code",
   "execution_count": 119,
   "metadata": {
    "collapsed": false
   },
   "outputs": [],
   "source": [
    "data = np.loadtxt('archive/gtex_full.txt')"
   ]
  },
  {
   "cell_type": "code",
   "execution_count": 120,
   "metadata": {
    "collapsed": false
   },
   "outputs": [
    {
     "name": "stdout",
     "output_type": "stream",
     "text": [
      "(10623893, 3)\n"
     ]
    }
   ],
   "source": [
    "print data.shape\n",
    "x1 = (np.log(data[:,0] + 1))\n",
    "x2 = (np.log(data[:,1] + 1))"
   ]
  },
  {
   "cell_type": "code",
   "execution_count": 40,
   "metadata": {
    "collapsed": true
   },
   "outputs": [],
   "source": [
    "threshold = map(float, '1.3978952728 10.269102416 10.9679310124 11.37278370005 11.6899580595 11.94756418725 12.1580870326 12.3472683422 12.53057712475 12.6843110259 12.8098939545 12.92044178875 13.00960221105 13.08124967365 13.15748338645 13.24494112225 13.3589552927 13.48954839635 13.66141371 13.86034385645 18.6929166939'.split())"
   ]
  },
  {
   "cell_type": "code",
   "execution_count": 42,
   "metadata": {
    "collapsed": false
   },
   "outputs": [],
   "source": [
    "m_group = np.zeros((20,))\n",
    "for i in range(len(threshold) - 1):\n",
    "    m_group[i] = np.sum((x1 > threshold[i]) * (x1 < threshold[i+1]))\n",
    "    "
   ]
  },
  {
   "cell_type": "code",
   "execution_count": 46,
   "metadata": {
    "collapsed": false
   },
   "outputs": [
    {
     "name": "stdout",
     "output_type": "stream",
     "text": [
      "308236.0,311322.0,308234.0,344335.0,375867.0,382472.0,420402.0,489255.0,487448.0,458249.0,450156.0,402382.0,340424.0,385427.0,442816.0,604773.0,752360.0,1073832.0,1161809.0,1124055.0\n"
     ]
    }
   ],
   "source": [
    "print(','.join(map(str,m_group)))"
   ]
  },
  {
   "cell_type": "code",
   "execution_count": 47,
   "metadata": {
    "collapsed": false
   },
   "outputs": [
    {
     "data": {
      "text/plain": [
       "10623854.0"
      ]
     },
     "execution_count": 47,
     "metadata": {},
     "output_type": "execute_result"
    }
   ],
   "source": [
    "sum(m_group)"
   ]
  },
  {
   "cell_type": "code",
   "execution_count": 48,
   "metadata": {
    "collapsed": false
   },
   "outputs": [
    {
     "data": {
      "text/plain": [
       "10623893"
      ]
     },
     "execution_count": 48,
     "metadata": {},
     "output_type": "execute_result"
    }
   ],
   "source": [
    "len(data)"
   ]
  },
  {
   "cell_type": "code",
   "execution_count": 54,
   "metadata": {
    "collapsed": false
   },
   "outputs": [],
   "source": [
    "threshold2 = map(float, '-1 0.0584009748745 0.0954919814592 0.15537849718 0.241376319575 0.322445752388 0.427683116675 0.591501976798 0.752830182721 0.885831524389 1.07397800771 1.1712429797 1.38354057292 1.48455473029 1.63159071708 1.85614172816 2.11541178547 2.39315679118 2.81421039693 3.38608374385 8.25276241805'.split())"
   ]
  },
  {
   "cell_type": "code",
   "execution_count": 57,
   "metadata": {
    "collapsed": true
   },
   "outputs": [],
   "source": [
    "m_group = np.zeros((20,))\n",
    "for i in range(len(threshold2) - 1):\n",
    "    m_group[i] = np.sum((x2 > threshold2[i]) * (x2 < threshold2[i+1]))\n",
    "    "
   ]
  },
  {
   "cell_type": "code",
   "execution_count": 58,
   "metadata": {
    "collapsed": false
   },
   "outputs": [
    {
     "name": "stdout",
     "output_type": "stream",
     "text": [
      "716265.0,557125.0,662287.0,657806.0,509410.0,443997.0,547850.0,464797.0,411762.0,498784.0,251086.0,584836.0,348203.0,386085.0,611819.0,598006.0,555987.0,656070.0,605814.0,555904.0\n"
     ]
    }
   ],
   "source": [
    "print(','.join(map(str,m_group)))"
   ]
  },
  {
   "cell_type": "code",
   "execution_count": 59,
   "metadata": {
    "collapsed": false
   },
   "outputs": [
    {
     "data": {
      "text/plain": [
       "10623893.0"
      ]
     },
     "execution_count": 59,
     "metadata": {},
     "output_type": "execute_result"
    }
   ],
   "source": [
    "sum(m_group)"
   ]
  },
  {
   "cell_type": "code",
   "execution_count": 121,
   "metadata": {
    "collapsed": true
   },
   "outputs": [],
   "source": [
    "p = data[:,2]"
   ]
  },
  {
   "cell_type": "code",
   "execution_count": 122,
   "metadata": {
    "collapsed": false
   },
   "outputs": [],
   "source": [
    "from sklearn.cluster import KMeans\n",
    "km = KMeans(n_clusters = 20)"
   ]
  },
  {
   "cell_type": "code",
   "execution_count": 123,
   "metadata": {
    "collapsed": true
   },
   "outputs": [],
   "source": [
    "x1_filtered = x1[p<0.005]\n",
    "x2_filtered = x2[p<0.005]"
   ]
  },
  {
   "cell_type": "code",
   "execution_count": 124,
   "metadata": {
    "collapsed": false
   },
   "outputs": [],
   "source": [
    "x = np.concatenate([np.expand_dims(x1_filtered, 1), np.expand_dims(x2_filtered, 2)], 1)\n",
    "x_full = np.concatenate([np.expand_dims(x1, 1), np.expand_dims(x2, 2)], 1)"
   ]
  },
  {
   "cell_type": "code",
   "execution_count": 125,
   "metadata": {
    "collapsed": false
   },
   "outputs": [],
   "source": [
    "groups = km.fit_predict(x)"
   ]
  },
  {
   "cell_type": "code",
   "execution_count": 131,
   "metadata": {
    "collapsed": true
   },
   "outputs": [],
   "source": [
    "groups2 = km.predict(x_full)"
   ]
  },
  {
   "cell_type": "code",
   "execution_count": 132,
   "metadata": {
    "collapsed": false
   },
   "outputs": [],
   "source": [
    "m_group = np.zeros((20,))\n",
    "for i in range(20):\n",
    "    m_group[i] = np.sum(groups2 == i)"
   ]
  },
  {
   "cell_type": "code",
   "execution_count": 133,
   "metadata": {
    "collapsed": false
   },
   "outputs": [
    {
     "name": "stdout",
     "output_type": "stream",
     "text": [
      "336255.0,703294.0,186326.0,783815.0,635348.0,118946.0,153027.0,687951.0,1649328.0,616216.0,42318.0,479180.0,971115.0,238055.0,1241095.0,55871.0,977760.0,276127.0,323185.0,148681.0\n"
     ]
    }
   ],
   "source": [
    "print(','.join(map(str,m_group)))"
   ]
  },
  {
   "cell_type": "code",
   "execution_count": 134,
   "metadata": {
    "collapsed": false
   },
   "outputs": [
    {
     "name": "stdout",
     "output_type": "stream",
     "text": [
      "336255.0,703294.0,186326.0,783815.0,635348.0,118946.0,153027.0,687951.0,1649328.0,616216.0,42318.0,479180.0,971115.0,238055.0,1241095.0,55871.0,977760.0,276127.0,323185.0,148681.0\n"
     ]
    }
   ],
   "source": [
    "print(','.join(map(str,m_group)))"
   ]
  },
  {
   "cell_type": "code",
   "execution_count": 139,
   "metadata": {
    "collapsed": false
   },
   "outputs": [],
   "source": [
    "import pickle as pkl\n",
    "pkl.dump(km, open('data/gtexkm.pkl', 'w'))"
   ]
  },
  {
   "cell_type": "code",
   "execution_count": 135,
   "metadata": {
    "collapsed": true
   },
   "outputs": [],
   "source": [
    "p_filtered = p[p<0.005]"
   ]
  },
  {
   "cell_type": "code",
   "execution_count": 136,
   "metadata": {
    "collapsed": false
   },
   "outputs": [],
   "source": [
    "with open('data/gtex_group2.csv', 'w') as f:\n",
    "    f.write('group, p_value\\n')\n",
    "    for i in range(len(p_filtered)):\n",
    "        f.write(\"{}, {}\\n\".format(groups[i],p_filtered[i]))"
   ]
  },
  {
   "cell_type": "code",
   "execution_count": 37,
   "metadata": {
    "collapsed": false
   },
   "outputs": [
    {
     "data": {
      "text/plain": [
       "117488"
      ]
     },
     "execution_count": 37,
     "metadata": {},
     "output_type": "execute_result"
    }
   ],
   "source": [
    "len(groups)"
   ]
  },
  {
   "cell_type": "code",
   "execution_count": 38,
   "metadata": {
    "collapsed": false
   },
   "outputs": [
    {
     "data": {
      "text/plain": [
       "117488"
      ]
     },
     "execution_count": 38,
     "metadata": {},
     "output_type": "execute_result"
    }
   ],
   "source": [
    "len(p_filtered)"
   ]
  },
  {
   "cell_type": "code",
   "execution_count": 39,
   "metadata": {
    "collapsed": true
   },
   "outputs": [],
   "source": [
    "data = np.loadtxt('data/gtex_full3d.txt')"
   ]
  },
  {
   "cell_type": "code",
   "execution_count": 40,
   "metadata": {
    "collapsed": true
   },
   "outputs": [],
   "source": [
    "p = data[:,-1]"
   ]
  },
  {
   "cell_type": "code",
   "execution_count": 45,
   "metadata": {
    "collapsed": true
   },
   "outputs": [],
   "source": [
    "x = data[p < 0.005, 0:3]\n",
    "p_filtered = p[p<0.005]"
   ]
  },
  {
   "cell_type": "code",
   "execution_count": 75,
   "metadata": {
    "collapsed": true
   },
   "outputs": [],
   "source": [
    "from sklearn.cluster import KMeans\n",
    "km = KMeans(n_clusters = 20, random_state=42)"
   ]
  },
  {
   "cell_type": "code",
   "execution_count": 76,
   "metadata": {
    "collapsed": true
   },
   "outputs": [],
   "source": [
    "groups = km.fit_predict(x)"
   ]
  },
  {
   "cell_type": "code",
   "execution_count": 85,
   "metadata": {
    "collapsed": true
   },
   "outputs": [],
   "source": [
    "with open('data/gtex_group3d.csv', 'w') as f:\n",
    "    f.write('group, p_value\\n')\n",
    "    for i in range(len(p_filtered)):\n",
    "        f.write(\"{}, {}\\n\".format(groups[i] + 1,p_filtered[i]))"
   ]
  },
  {
   "cell_type": "code",
   "execution_count": 78,
   "metadata": {
    "collapsed": false
   },
   "outputs": [],
   "source": [
    "groups2 = km.predict(data[:,0:3])"
   ]
  },
  {
   "cell_type": "code",
   "execution_count": 79,
   "metadata": {
    "collapsed": true
   },
   "outputs": [],
   "source": [
    "m_group = np.zeros((20,))\n",
    "for i in range(20):\n",
    "    m_group[i] = np.sum(groups2 == i)"
   ]
  },
  {
   "cell_type": "code",
   "execution_count": 80,
   "metadata": {
    "collapsed": false
   },
   "outputs": [
    {
     "name": "stdout",
     "output_type": "stream",
     "text": [
      "752912.0,916.0,703991.0,547605.0,849600.0,6151.0,5186.0,893335.0,840521.0,210291.0,798579.0,820472.0,3079.0,766545.0,663506.0,791356.0,750571.0,390518.0,5007.0,823752.0\n"
     ]
    }
   ],
   "source": [
    "print(','.join(map(str,m_group)))"
   ]
  },
  {
   "cell_type": "code",
   "execution_count": 82,
   "metadata": {
    "collapsed": false
   },
   "outputs": [
    {
     "data": {
      "text/plain": [
       "10623893.0"
      ]
     },
     "execution_count": 82,
     "metadata": {},
     "output_type": "execute_result"
    }
   ],
   "source": [
    "sum(m_group)"
   ]
  },
  {
   "cell_type": "code",
   "execution_count": 86,
   "metadata": {
    "collapsed": false
   },
   "outputs": [
    {
     "data": {
      "text/plain": [
       "10623893"
      ]
     },
     "execution_count": 86,
     "metadata": {},
     "output_type": "execute_result"
    }
   ],
   "source": [
    "len(p)"
   ]
  },
  {
   "cell_type": "code",
   "execution_count": 87,
   "metadata": {
    "collapsed": true
   },
   "outputs": [],
   "source": [
    "from sideinfo_release import *"
   ]
  },
  {
   "cell_type": "code",
   "execution_count": 89,
   "metadata": {
    "collapsed": false
   },
   "outputs": [
    {
     "data": {
      "text/plain": [
       "(29758, 0.0002879, 0.97271514939642811)"
      ]
     },
     "execution_count": 89,
     "metadata": {},
     "output_type": "execute_result"
    }
   ],
   "source": [
    "Storey_BH(p, alpha = 0.1)"
   ]
  },
  {
   "cell_type": "code",
   "execution_count": 102,
   "metadata": {
    "collapsed": false
   },
   "outputs": [],
   "source": [
    "threshold = map(float, '-1 0 0 0 0 0 0 0 0.001 0.001 0.002 0.003 0.005 0.009 0.015 0.027 0.05 0.097 0.201 0.508 2'.split())"
   ]
  },
  {
   "cell_type": "code",
   "execution_count": 107,
   "metadata": {
    "collapsed": false
   },
   "outputs": [],
   "source": [
    "m_group = np.zeros((20,))\n",
    "for i in range(len(threshold) - 1):\n",
    "    m_group[i] = np.sum((data[:,2] > threshold[i]) * (data[:,2] <= threshold[i+1]))"
   ]
  },
  {
   "cell_type": "code",
   "execution_count": 108,
   "metadata": {
    "collapsed": false
   },
   "outputs": [
    {
     "data": {
      "text/plain": [
       "10623893.0"
      ]
     },
     "execution_count": 108,
     "metadata": {},
     "output_type": "execute_result"
    }
   ],
   "source": [
    "sum(m_group)"
   ]
  },
  {
   "cell_type": "code",
   "execution_count": 111,
   "metadata": {
    "collapsed": false
   },
   "outputs": [],
   "source": [
    "m_group[0:7] = m_group[0]/7"
   ]
  },
  {
   "cell_type": "code",
   "execution_count": 113,
   "metadata": {
    "collapsed": false
   },
   "outputs": [],
   "source": [
    "m_group[7:9] = m_group[7]/2"
   ]
  },
  {
   "cell_type": "code",
   "execution_count": 117,
   "metadata": {
    "collapsed": false
   },
   "outputs": [],
   "source": [
    "m_group = m_group.astype(np.int64)"
   ]
  },
  {
   "cell_type": "code",
   "execution_count": 118,
   "metadata": {
    "collapsed": false
   },
   "outputs": [
    {
     "name": "stdout",
     "output_type": "stream",
     "text": [
      "587048,587048,587048,587048,587048,587048,587048,556465,556465,535293,355527,466493,547763,469515,521010,511401,507023,491353,481096,515150\n"
     ]
    }
   ],
   "source": [
    "print(','.join(map(str,m_group)))"
   ]
  },
  {
   "cell_type": "code",
   "execution_count": null,
   "metadata": {
    "collapsed": true
   },
   "outputs": [],
   "source": []
  }
 ],
 "metadata": {
  "kernelspec": {
   "display_name": "Python 2",
   "language": "python",
   "name": "python2"
  },
  "language_info": {
   "codemirror_mode": {
    "name": "ipython",
    "version": 2
   },
   "file_extension": ".py",
   "mimetype": "text/x-python",
   "name": "python",
   "nbconvert_exporter": "python",
   "pygments_lexer": "ipython2",
   "version": "2.7.12"
  }
 },
 "nbformat": 4,
 "nbformat_minor": 2
}
