{
 "cells": [
  {
   "cell_type": "code",
   "execution_count": 3,
   "metadata": {
    "collapsed": true
   },
   "outputs": [],
   "source": [
    "import numpy as np\n",
    "import matplotlib.pyplot as plt\n",
    "from matplotlib import mlab\n",
    "%matplotlib inline"
   ]
  },
  {
   "cell_type": "code",
   "execution_count": 4,
   "metadata": {
    "collapsed": true
   },
   "outputs": [],
   "source": [
    "# Fitting a beta distrbution \n",
    "from scipy.stats import beta"
   ]
  },
  {
   "cell_type": "code",
   "execution_count": 5,
   "metadata": {
    "collapsed": false
   },
   "outputs": [],
   "source": [
    "def generate_data_1D(job=0, n_samples=10000,data_vis=0, num_case=4):\n",
    "    if job == 0: # discrete case\n",
    "        pi1=np.random.uniform(0,0.3,size=num_case)\n",
    "        X=np.random.randint(0, num_case, n_samples)\n",
    "        \n",
    "        p = np.zeros(n_samples)\n",
    "        h = np.zeros(n_samples)\n",
    "        \n",
    "        for i in range(n_samples):\n",
    "            rnd = np.random.uniform()\n",
    "            if rnd > pi1[X[i]]:\n",
    "                p[i] = np.random.uniform()\n",
    "                h[i] = 0\n",
    "            else:\n",
    "                p[i] = np.random.beta(a = np.random.uniform(0.2,0.4), b = 4)\n",
    "                h[i] = 1\n",
    "        return p, h, X\n",
    "\n",
    "def p_value_beta_fit(p, lamb=0.8, bin_num=50, vis=0):\n",
    "    pi_0=np.divide(np.sum(p>lamb), p.shape[0] * (1-lamb))\n",
    "    temp_p=np.zeros([0])\n",
    "    step_size=np.divide(1,np.float(bin_num))\n",
    "    fil_num=np.int(np.divide(pi_0*p.shape[0],bin_num))+1\n",
    "    for i in range(bin_num):\n",
    "        p1=p[p>step_size*(i-1)]\n",
    "        p1=p1[p1 <= step_size*i]\n",
    "        choice_num= np.max(p1.shape[0] - fil_num,0)\n",
    "        if choice_num > 1:\n",
    "            choice=np.random.choice(p1.shape[0], choice_num)\n",
    "            temp_p=np.concatenate([temp_p,p1[choice]]).T\n",
    "    if vis==1:\n",
    "        plt.figure()\n",
    "        plt.hist(temp_p, bins=100, normed=True)       \n",
    "    a, b, loc, scale = beta.fit(temp_p,floc=0,fscale=1)\n",
    "    return pi_0, a, b\n",
    "def beta_mixture_pdf(x,pi_0,a,b):\n",
    "    return beta.pdf(x,a,b)*(1-pi_0)+pi_0\n",
    "\n",
    "def Storey_BH(x, alpha = 0.05, lamb=0.4):\n",
    "    pi0_hat=np.divide(np.sum(x>lamb),x.shape[0] *(1-lamb))\n",
    "    alpha /= pi0_hat\n",
    "    x_s = sorted(x)\n",
    "    n = len(x_s)\n",
    "    ic = 0\n",
    "    for i in range(n):\n",
    "        if x_s[i] < i*alpha/float(n):\n",
    "            ic = i\n",
    "    return ic, x_s[ic], pi0_hat\n",
    "\n",
    "def Opt_t_cal_discrete(p, h, X, num_case=2,step_size=0.0001,ub=0.05,n_samples=10000,alpha=0.05):\n",
    "    # Fit the beta mixture parameters\n",
    "    fit_param=np.zeros([num_case, 3])\n",
    "    for i in range(num_case):\n",
    "        fit_param[i,:]=p_value_beta_fit(p[X==i])\n",
    "\n",
    "    # Calculating the ratios \n",
    "    t_opt=np.zeros([num_case])\n",
    "    max_idx=np.argmin(fit_param[:,0])\n",
    "    x_grid = np.arange(0, ub, step_size)\n",
    "    t_ratio=np.zeros([num_case,x_grid.shape[0]])\n",
    "    for i in range(num_case):\n",
    "        t_ratio[i,:] = np.divide(beta_mixture_pdf(\n",
    "            x_grid,fit_param[i,0],fit_param[i,1],fit_param[i,2]), fit_param[i,0])\n",
    "\n",
    "    # Increase the threshold\n",
    "    for i in range(len(x_grid)):\n",
    "        t=np.zeros([num_case])\n",
    "        # undate the search optimal threshold\n",
    "        t[max_idx]=x_grid[i]\n",
    "        c=t_ratio[max_idx,i]\n",
    "        for j in range(num_case):\n",
    "            if j != max_idx: \n",
    "                for k in range(len(x_grid)):\n",
    "                    if k == len(x_grid)-1:\n",
    "                        t[j]=x_grid[k]\n",
    "                        break\n",
    "                    if t_ratio[j,k+1]<c:\n",
    "                        t[j]=x_grid[k]\n",
    "                        break\n",
    "        # calculate the FDR\n",
    "        num_dis=0 \n",
    "        num_fd =0 \n",
    "        for i in range(num_case):\n",
    "            num_dis+=np.sum(p[X==i] < t[i])\n",
    "            num_fd+=np.sum(X==i)*t[i]*fit_param[i,0]\n",
    "\n",
    "        if np.divide(num_fd,np.float(np.amax([num_dis,1])))<alpha:\n",
    "            t_opt=t\n",
    "        else:\n",
    "            break\n",
    "    return t_opt\n"
   ]
  },
  {
   "cell_type": "code",
   "execution_count": 5,
   "metadata": {
    "collapsed": false
   },
   "outputs": [],
   "source": []
  },
  {
   "cell_type": "code",
   "execution_count": 7,
   "metadata": {
    "collapsed": false
   },
   "outputs": [
    {
     "name": "stdout",
     "output_type": "stream",
     "text": [
      "[ 0.0015  0.0057]\n",
      "('Number of dis:', 579.0, 'Act FDR:', 0.037996545768566481)\n",
      "('Storey_BH: num of dis, threshold, null esti', 550, 0.0033386840665412016, 0.82366666666666666)\n"
     ]
    }
   ],
   "source": [
    "## generating the data \n",
    "num_case=2\n",
    "n_samples=10000\n",
    "ub=0.1\n",
    "p, h, X = generate_data_1D(num_case=num_case)\n",
    "t_opt=Opt_t_cal_discrete(p, h, X,num_case=num_case)\n",
    "print(t_opt)\n",
    "\n",
    "# evaluation \n",
    "h_pred=np.zeros(n_samples)\n",
    "for i in range(n_samples):\n",
    "    if p[i]<t_opt[X[i]]:\n",
    "        h_pred[i]=1\n",
    "\n",
    "num_dis=np.sum(h_pred)\n",
    "num_td=np.sum(h_pred*h)\n",
    "\n",
    "ActFDR=1-np.divide(num_td,np.float(np.amax([num_dis,1])))\n",
    "\n",
    "print('Number of dis:', num_dis, \"Act FDR:\", ActFDR)\n",
    "\n",
    "dic_SBH, t_SBH, pi0_SBH = Storey_BH(p)\n",
    "print(\"Storey_BH: num of dis, threshold, null esti\", dic_SBH, t_SBH, pi0_SBH)\n"
   ]
  },
  {
   "cell_type": "code",
   "execution_count": 334,
   "metadata": {
    "collapsed": false
   },
   "outputs": [
    {
     "data": {
      "text/plain": [
       "390"
      ]
     },
     "execution_count": 334,
     "metadata": {},
     "output_type": "execute_result"
    }
   ],
   "source": [
    "np.sum(p<0.0029)"
   ]
  },
  {
   "cell_type": "code",
   "execution_count": 257,
   "metadata": {
    "collapsed": false
   },
   "outputs": [
    {
     "data": {
      "text/plain": [
       "([<matplotlib.lines.Line2D at 0x7f53e3509450>],)"
      ]
     },
     "execution_count": 257,
     "metadata": {},
     "output_type": "execute_result"
    },
    {
     "data": {
      "image/png": "[encoded data removed]",
      "text/plain": [
       "<matplotlib.figure.Figure at 0x7f53e3542e90>"
      ]
     },
     "metadata": {},
     "output_type": "display_data"
    }
   ],
   "source": [
    "plt.figure()\n",
    "hist_info = plt.hist(p[X==0], bins=100, normed=True)\n",
    "\n",
    "x = hist_info[1]\n",
    "plt.plot(x, (beta.pdf(x,a,b)*(1-pi_0)+pi_0).clip(max=15)),"
   ]
  },
  {
   "cell_type": "code",
   "execution_count": null,
   "metadata": {
    "collapsed": true
   },
   "outputs": [],
   "source": []
  },
  {
   "cell_type": "code",
   "execution_count": null,
   "metadata": {
    "collapsed": true
   },
   "outputs": [],
   "source": []
  }
 ],
 "metadata": {
  "kernelspec": {
   "display_name": "Python 2",
   "language": "python",
   "name": "python2"
  },
  "language_info": {
   "codemirror_mode": {
    "name": "ipython",
    "version": 2
   },
   "file_extension": ".py",
   "mimetype": "text/x-python",
   "name": "python",
   "nbconvert_exporter": "python",
   "pygments_lexer": "ipython2",
   "version": "2.7.12"
  }
 },
 "nbformat": 4,
 "nbformat_minor": 2
}
