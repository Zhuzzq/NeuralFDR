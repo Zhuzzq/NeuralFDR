{
 "cells": [
  {
   "cell_type": "code",
   "execution_count": 2,
   "metadata": {
    "collapsed": false
   },
   "outputs": [
    {
     "name": "stderr",
     "output_type": "stream",
     "text": [
      "Bioconductor version 3.4 (BiocInstaller 1.24.0), ?biocLite for help\n",
      "A new version of Bioconductor is available after installing the most recent\n",
      "  version of R; see http://bioconductor.org/install\n",
      "BioC_mirror: https://bioconductor.org\n",
      "Using Bioconductor 3.4 (BiocInstaller 1.24.0), R 3.3.3 (2017-03-06).\n",
      "Installing package(s) ‘IHWpaper’\n",
      "installation path not writeable, unable to update packages: boot, cluster,\n",
      "  foreign, lattice, MASS, Matrix, mgcv, rpart, survival\n",
      "Old packages: 'irlba', 'knitr', 'pbdZMQ', 'tibble'\n"
     ]
    }
   ],
   "source": [
    "source(\"https://bioconductor.org/biocLite.R\")\n",
    "biocLite(\"IHWpaper\")"
   ]
  },
  {
   "cell_type": "code",
   "execution_count": 3,
   "metadata": {
    "collapsed": true
   },
   "outputs": [],
   "source": [
    "library(\"IHW\")\n",
    "library(\"IHWpaper\")"
   ]
  },
  {
   "cell_type": "code",
   "execution_count": 21,
   "metadata": {
    "collapsed": false
   },
   "outputs": [],
   "source": []
  },
  {
   "cell_type": "code",
   "execution_count": 5,
   "metadata": {
    "collapsed": false
   },
   "outputs": [],
   "source": [
    "#ihw_res <- ihw(sim$pvalue, sim$filterstat, alpha = 0.05, nbins = 20)"
   ]
  },
  {
   "cell_type": "code",
   "execution_count": 6,
   "metadata": {
    "collapsed": false
   },
   "outputs": [],
   "source": [
    "#rejections(ihw_res)"
   ]
  },
  {
   "cell_type": "code",
   "execution_count": 8,
   "metadata": {
    "collapsed": false
   },
   "outputs": [],
   "source": [
    "#plot(ihw_res)"
   ]
  },
  {
   "cell_type": "code",
   "execution_count": 28,
   "metadata": {
    "collapsed": false
   },
   "outputs": [],
   "source": [
    "for (i in 1:10) {\n",
    "sim <- du_ttest_sim(80000, 0.9, 2, seed=i)\n",
    "write.csv(sim,paste('sim.csv.', i))\n",
    "}"
   ]
  },
  {
   "cell_type": "code",
   "execution_count": 26,
   "metadata": {
    "collapsed": false
   },
   "outputs": [
    {
     "data": {
      "text/html": [
       "'a b'"
      ],
      "text/latex": [
       "'a b'"
      ],
      "text/markdown": [
       "'a b'"
      ],
      "text/plain": [
       "[1] \"a b\""
      ]
     },
     "metadata": {},
     "output_type": "display_data"
    }
   ],
   "source": []
  },
  {
   "cell_type": "code",
   "execution_count": null,
   "metadata": {
    "collapsed": true
   },
   "outputs": [],
   "source": []
  }
 ],
 "metadata": {
  "kernelspec": {
   "display_name": "R 3.3",
   "language": "R",
   "name": "ir33"
  },
  "language_info": {
   "codemirror_mode": "r",
   "file_extension": ".r",
   "mimetype": "text/x-r-source",
   "name": "R",
   "pygments_lexer": "r",
   "version": "3.3.3"
  }
 },
 "nbformat": 4,
 "nbformat_minor": 2
}
