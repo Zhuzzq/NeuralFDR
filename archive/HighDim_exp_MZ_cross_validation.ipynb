{
 "cells": [
  {
   "cell_type": "code",
   "execution_count": 1,
   "metadata": {
    "collapsed": false
   },
   "outputs": [],
   "source": [
    "from sideinfo import *\n",
    "%load_ext autoreload\n",
    "%autoreload 2\n",
    "import matplotlib.pyplot as plt\n",
    "%matplotlib inline\n",
    "import numpy as np\n",
    "from mpl_toolkits.mplot3d import Axes3D\n",
    "from scipy.stats import multivariate_normal\n"
   ]
  },
  {
   "cell_type": "code",
   "execution_count": 23,
   "metadata": {
    "collapsed": true
   },
   "outputs": [],
   "source": [
    "def generate_data_MultiDim(job=0, n_samples=10000,data_vis=0,Dim=5):\n",
    "    if job == 0: # Gaussian mixtures \n",
    "        X=np.zeros([n_samples,Dim])\n",
    "        mu=np.zeros([2,Dim])\n",
    "        Sigma=np.zeros([2,Dim])\n",
    "        for i in range(Dim):\n",
    "            X[:,i]=np.random.uniform(-1,1,size = n_samples)\n",
    "        ## spicify the centers\n",
    "        mu[0,:] += 0.5\n",
    "        mu[1,:] -= 0.5\n",
    "        Sigma[0,:] += 0.25\n",
    "        Sigma[1,:] += 0.25\n",
    "        var1=multivariate_normal(mean=mu[0,:], cov=np.diag(Sigma[0,:]))\n",
    "        var2=multivariate_normal(mean=mu[1,:], cov=np.diag(Sigma[1,:]))\n",
    "        \n",
    "        pi1=((var1.pdf(X)+var2.pdf(X))*15).clip(max=1)\n",
    "#         print(np.amax(pi1))\n",
    "                   \n",
    "        p = np.zeros(n_samples)\n",
    "        h = np.zeros(n_samples)\n",
    "               \n",
    "        for i in range(n_samples):\n",
    "            rnd = np.random.uniform()\n",
    "            if rnd > pi1[i]:\n",
    "                p[i] = np.random.uniform()\n",
    "                h[i] = 0\n",
    "            else:\n",
    "                p[i] = np.random.beta(a = 0.3, b = 4)\n",
    "                h[i] = 1\n",
    "        return p, h, X\n",
    "    if job == 1: # Linear trend\n",
    "        pass\n",
    "#         x1 = np.random.uniform(-1,1,size = n_samples)\n",
    "#         x2 = np.random.uniform(-1,1,size = n_samples)\n",
    "#         pi1 = 0.1 * (x1 + 1) /2 +  0.3 *(1-x2) / 2\n",
    "        \n",
    "#         p = np.zeros(n_samples)\n",
    "#         h = np.zeros(n_samples)\n",
    "         \n",
    "#         for i in range(n_samples):\n",
    "#             rnd = np.random.uniform()\n",
    "#             if rnd > pi1[i]:\n",
    "#                 p[i] = np.random.uniform()\n",
    "#                 h[i] = 0\n",
    "#             else:\n",
    "#                 p[i] = np.random.beta(a = 0.3, b = 4)\n",
    "#                 h[i] = 1\n",
    "#         X = np.concatenate([[x1],[x2]]).T\n",
    "        \n",
    "#         if data_vis == 1:\n",
    "#             fig = plt.figure()\n",
    "#             ax1 = fig.add_subplot(121)\n",
    "#             x_grid = np.arange(-1, 1, 1/100.0)\n",
    "#             y_grid = np.arange(-1, 1, 1/100.0)\n",
    "#             X_grid, Y_grid = np.meshgrid(x_grid, y_grid)\n",
    "#             pi1_grid =  0.1 * (X_grid + 1) /2 +  0.3 *(1-Y_grid) / 2\n",
    "            \n",
    "#             ax1.pcolor(X_grid, Y_grid, pi1_grid)\n",
    "            \n",
    "#             ax2 = fig.add_subplot(122)\n",
    "#             alt=ax2.scatter(x1[h==1][1:50], x2[h==1][1:50],color='r')\n",
    "#             nul=ax2.scatter(x1[h==0][1:50], x2[h==0][1:50],color='b')\n",
    "#             ax2.legend((alt,nul),('50 alternatives', '50 nulls'))\n",
    "            \n",
    "#         return p, h, X\n",
    "        \n",
    "        \n",
    "        \n",
    "    if job == 2: # Gaussian mixture + linear trend\n",
    "        pass\n",
    "#         x1 = np.random.uniform(-1,1,size = n_samples)\n",
    "#         x2 = np.random.uniform(-1,1,size = n_samples)\n",
    "#         pi1 = ((mlab.bivariate_normal(x1, x2, 0.25, 0.25, -0.5, -0.2)+\n",
    "#                mlab.bivariate_normal(x1, x2, 0.25, 0.25, 0.7, 0.5))/2).clip(max=1)        \n",
    "#         pi1 = pi1 * 0.5 + 0.5*(0.5 * (x1 + 1) /2 +  0.3 *(1-x2) / 2)\n",
    "        \n",
    "#         p = np.zeros(n_samples)\n",
    "#         h = np.zeros(n_samples)\n",
    "               \n",
    "#         for i in range(n_samples):\n",
    "#             rnd = np.random.uniform()\n",
    "#             if rnd > pi1[i]:\n",
    "#                 p[i] = np.random.uniform()\n",
    "#                 h[i] = 0\n",
    "#             else:\n",
    "#                 p[i] = np.random.beta(a = 0.3, b = 4)\n",
    "#                 h[i] = 1\n",
    "#         X = np.concatenate([[x1],[x2]]).T\n",
    "        \n",
    "#         if data_vis == 1:\n",
    "#             fig = plt.figure()\n",
    "#             ax1 = fig.add_subplot(121)\n",
    "#             x_grid = np.arange(-1, 1, 1/100.0)\n",
    "#             y_grid = np.arange(-1, 1, 1/100.0)\n",
    "#             X_grid, Y_grid = np.meshgrid(x_grid, y_grid)\n",
    "#             pi1_grid = ((mlab.bivariate_normal(X_grid, Y_grid, 0.25, 0.25, -0.5, -0.2)+\n",
    "#                mlab.bivariate_normal(X_grid, Y_grid, 0.25, 0.25, 0.7, 0.5))/2).clip(max=1)  * 0.5 + (0.5 * (0.5 * (X_grid + 1) /2 +  0.3 *(1-Y_grid) / 2))\n",
    "#             ax1.pcolor(X_grid, Y_grid, pi1_grid)\n",
    "            \n",
    "#             ax2 = fig.add_subplot(122)\n",
    "#             alt=ax2.scatter(x1[h==1][1:50], x2[h==1][1:50],color='r')\n",
    "#             nul=ax2.scatter(x1[h==0][1:50], x2[h==0][1:50],color='b')\n",
    "#             ax2.legend((alt,nul),('50 alternatives', '50 nulls'))\n",
    "            \n",
    "#         return p, h, X"
   ]
  },
  {
   "cell_type": "code",
   "execution_count": 24,
   "metadata": {
    "collapsed": false
   },
   "outputs": [
    {
     "name": "stdout",
     "output_type": "stream",
     "text": [
      "('Num of alt: ', 2915.0)\n",
      "('True null prop: ', 0.70850000000000002)\n"
     ]
    }
   ],
   "source": [
    "x_Dim=5\n",
    "p, h, x=generate_data_MultiDim(Dim=x_Dim, n_samples=10000)\n",
    "n_samples=x.shape[0]\n",
    "print(\"Num of alt: \", np.sum(h))\n",
    "print(\"True null prop: \", 1-np.sum(h)/n_samples)"
   ]
  },
  {
   "cell_type": "code",
   "execution_count": 25,
   "metadata": {
    "collapsed": false
   },
   "outputs": [
    {
     "name": "stdout",
     "output_type": "stream",
     "text": [
      "('BH: num of dis, threshold:', 1002, 0.0050019101109742108)\n",
      "('Storey_BH: num of dis, threshold, null esti', 1182, 0.008197409882064419, 0.72016666666666662)\n"
     ]
    }
   ],
   "source": [
    "dic_BH, t_BH = BH(p)\n",
    "print(\"BH: num of dis, threshold:\", dic_BH,t_BH)\n",
    "dic_SBH, t_SBH, pi0_SBH = Storey_BH(p)\n",
    "print(\"Storey_BH: num of dis, threshold, null esti\", dic_SBH, t_SBH, pi0_SBH)"
   ]
  },
  {
   "cell_type": "code",
   "execution_count": 26,
   "metadata": {
    "collapsed": false
   },
   "outputs": [
    {
     "data": {
      "text/plain": [
       "(10000,)"
      ]
     },
     "execution_count": 26,
     "metadata": {},
     "output_type": "execute_result"
    }
   ],
   "source": [
    "p.shape"
   ]
  },
  {
   "cell_type": "code",
   "execution_count": 30,
   "metadata": {
    "collapsed": false
   },
   "outputs": [
    {
     "name": "stdout",
     "output_type": "stream",
     "text": [
      "0\n",
      "100\n",
      "200\n",
      "300\n",
      "400\n",
      "500\n",
      "600\n",
      "700\n",
      "800\n",
      "900\n",
      "1000\n",
      "1100\n",
      "1200\n",
      "1300\n",
      "1400\n",
      "1500\n",
      "1600\n",
      "1700\n",
      "1800\n",
      "1900\n",
      "2000\n",
      "2100\n",
      "2200\n",
      "2300\n",
      "2400\n",
      "2500\n",
      "2600\n",
      "2700\n",
      "2800\n",
      "2900\n",
      "3000\n",
      "3100\n",
      "3200\n",
      "3300\n",
      "3400\n",
      "3500\n",
      "3600\n",
      "3700\n",
      "3800\n",
      "3900\n",
      "4000\n",
      "4100\n",
      "4200\n",
      "4300\n",
      "4400\n",
      "4500\n",
      "4600\n",
      "4700\n",
      "4800\n",
      "4900\n",
      "5000\n",
      "5100\n",
      "5200\n",
      "5300\n",
      "5400\n",
      "5500\n",
      "5600\n",
      "5700\n",
      "5800\n",
      "5900\n",
      "0\n",
      "100\n",
      "200\n",
      "300\n",
      "400\n",
      "500\n",
      "600\n",
      "700\n",
      "800\n",
      "900\n",
      "1000\n",
      "1100\n",
      "1200\n",
      "1300\n",
      "1400\n",
      "1500\n",
      "1600\n",
      "1700\n",
      "1800\n",
      "1900\n",
      "2000\n",
      "2100\n",
      "2200\n",
      "2300\n",
      "2400\n",
      "2500\n",
      "2600\n",
      "2700\n",
      "2800\n",
      "2900\n",
      "3000\n",
      "3100\n",
      "3200\n",
      "3300\n",
      "3400\n",
      "3500\n",
      "3600\n",
      "3700\n",
      "3800\n",
      "3900\n",
      "4000\n",
      "4100\n",
      "4200\n",
      "4300\n",
      "4400\n",
      "4500\n",
      "4600\n",
      "4700\n",
      "4800\n",
      "4900\n",
      "5000\n",
      "5100\n",
      "5200\n",
      "5300\n",
      "5400\n",
      "5500\n",
      "5600\n",
      "5700\n",
      "5800\n",
      "5900\n",
      "6000\n",
      "6100\n",
      "6200\n",
      "6300\n",
      "6400\n",
      "6500\n",
      "6600\n",
      "6700\n",
      "6800\n",
      "6900\n",
      "7000\n",
      "7100\n",
      "7200\n",
      "7300\n",
      "7400\n",
      "7500\n",
      "7600\n",
      "7700\n",
      "7800\n",
      "7900\n",
      "8000\n",
      "8100\n",
      "8200\n",
      "8300\n",
      "8400\n",
      "8500\n",
      "8600\n",
      "8700\n",
      "8800\n",
      "8900\n",
      "0.326953485608 0.0499999821186\n",
      "0.326953485608 0.0298968870193\n",
      "0\n",
      "100\n",
      "200\n",
      "300\n",
      "400\n",
      "500\n",
      "600\n",
      "700\n",
      "800\n",
      "900\n",
      "1000\n",
      "1100\n",
      "1200\n",
      "1300\n",
      "1400\n",
      "1500\n",
      "1600\n",
      "1700\n",
      "1800\n",
      "1900\n",
      "2000\n",
      "2100\n",
      "2200\n",
      "2300\n",
      "2400\n",
      "2500\n",
      "2600\n",
      "2700\n",
      "2800\n",
      "2900\n",
      "3000\n",
      "3100\n",
      "3200\n",
      "3300\n",
      "3400\n",
      "3500\n",
      "3600\n",
      "3700\n",
      "3800\n",
      "3900\n",
      "4000\n",
      "4100\n",
      "4200\n",
      "4300\n",
      "4400\n",
      "4500\n",
      "4600\n",
      "4700\n",
      "4800\n",
      "4900\n",
      "5000\n",
      "5100\n",
      "5200\n",
      "5300\n",
      "5400\n",
      "5500\n",
      "5600\n",
      "5700\n",
      "5800\n",
      "5900\n",
      "0\n",
      "100\n",
      "200\n",
      "300\n",
      "400\n",
      "500\n",
      "600\n",
      "700\n",
      "800\n",
      "900\n",
      "1000\n",
      "1100\n",
      "1200\n",
      "1300\n",
      "1400\n",
      "1500\n",
      "1600\n",
      "1700\n",
      "1800\n",
      "1900\n",
      "2000\n",
      "2100\n",
      "2200\n",
      "2300\n",
      "2400\n",
      "2500\n",
      "2600\n",
      "2700\n",
      "2800\n",
      "2900\n",
      "3000\n",
      "3100\n",
      "3200\n",
      "3300\n",
      "3400\n",
      "3500\n",
      "3600\n",
      "3700\n",
      "3800\n",
      "3900\n",
      "4000\n",
      "4100\n",
      "4200\n",
      "4300\n",
      "4400\n",
      "4500\n",
      "4600\n",
      "4700\n",
      "4800\n",
      "4900\n",
      "5000\n",
      "5100\n",
      "5200\n",
      "5300\n",
      "5400\n",
      "5500\n",
      "5600\n",
      "5700\n",
      "5800\n",
      "5900\n",
      "6000\n",
      "6100\n",
      "6200\n",
      "6300\n",
      "6400\n",
      "6500\n",
      "6600\n",
      "6700\n",
      "6800\n",
      "6900\n",
      "7000\n",
      "7100\n",
      "7200\n",
      "7300\n",
      "7400\n",
      "7500\n",
      "7600\n",
      "7700\n",
      "7800\n",
      "7900\n",
      "8000\n",
      "8100\n",
      "8200\n",
      "8300\n",
      "8400\n",
      "8500\n",
      "8600\n",
      "8700\n",
      "8800\n",
      "8900\n",
      "0.84874817729 0.0500002019107\n",
      "0.84874817729 0.0434237010777\n",
      "0\n",
      "100\n",
      "200\n",
      "300\n",
      "400\n",
      "500\n",
      "600\n",
      "700\n",
      "800\n",
      "900\n",
      "1000\n",
      "1100\n",
      "1200\n",
      "1300\n",
      "1400\n",
      "1500\n",
      "1600\n",
      "1700\n",
      "1800\n",
      "1900\n",
      "2000\n",
      "2100\n",
      "2200\n",
      "2300\n",
      "2400\n",
      "2500\n",
      "2600\n",
      "2700\n",
      "2800\n",
      "2900\n",
      "3000\n",
      "3100\n",
      "3200\n",
      "3300\n",
      "3400\n",
      "3500\n",
      "3600\n",
      "3700\n",
      "3800\n",
      "3900\n",
      "4000\n",
      "4100\n",
      "4200\n",
      "4300\n",
      "4400\n",
      "4500\n",
      "4600\n",
      "4700\n",
      "4800\n",
      "4900\n",
      "5000\n",
      "5100\n",
      "5200\n",
      "5300\n",
      "5400\n",
      "5500\n",
      "5600\n",
      "5700\n",
      "5800\n",
      "5900\n",
      "0\n",
      "100\n",
      "200\n",
      "300\n",
      "400\n",
      "500\n",
      "600\n",
      "700\n",
      "800\n",
      "900\n",
      "1000\n",
      "1100\n",
      "1200\n",
      "1300\n",
      "1400\n",
      "1500\n",
      "1600\n",
      "1700\n",
      "1800\n",
      "1900\n",
      "2000\n",
      "2100\n",
      "2200\n",
      "2300\n",
      "2400\n",
      "2500\n",
      "2600\n",
      "2700\n",
      "2800\n",
      "2900\n",
      "3000\n",
      "3100\n",
      "3200\n",
      "3300\n",
      "3400\n",
      "3500\n",
      "3600\n",
      "3700\n",
      "3800\n",
      "3900\n",
      "4000\n",
      "4100\n",
      "4200\n",
      "4300\n",
      "4400\n",
      "4500\n",
      "4600\n",
      "4700\n",
      "4800\n",
      "4900\n",
      "5000\n",
      "5100\n",
      "5200\n",
      "5300\n",
      "5400\n",
      "5500\n",
      "5600\n",
      "5700\n",
      "5800\n",
      "5900\n",
      "6000\n",
      "6100\n",
      "6200\n",
      "6300\n",
      "6400\n",
      "6500\n",
      "6600\n",
      "6700\n",
      "6800\n",
      "6900\n",
      "7000\n",
      "7100\n",
      "7200\n",
      "7300\n",
      "7400\n",
      "7500\n",
      "7600\n",
      "7700\n",
      "7800\n",
      "7900\n",
      "8000\n",
      "8100\n",
      "8200\n",
      "8300\n",
      "8400\n",
      "8500\n",
      "8600\n",
      "8700\n",
      "8800\n",
      "8900\n",
      "0.555676192045 0.0500000119209\n",
      "0.555676192045 0.0733062252402\n"
     ]
    },
    {
     "data": {
      "image/png": "[encoded data removed]",
      "text/plain": [
       "<matplotlib.figure.Figure at 0x7fe290087250>"
      ]
     },
     "metadata": {},
     "output_type": "display_data"
    },
    {
     "data": {
      "image/png": "[encoded data removed]",
      "text/plain": [
       "<matplotlib.figure.Figure at 0x7fe28ad6fe10>"
      ]
     },
     "metadata": {},
     "output_type": "display_data"
    },
    {
     "data": {
      "image/png": "[encoded data removed]",
      "text/plain": [
       "<matplotlib.figure.Figure at 0x7fe290051f90>"
      ]
     },
     "metadata": {},
     "output_type": "display_data"
    },
    {
     "data": {
      "image/png": "[encoded data removed]",
      "text/plain": [
       "<matplotlib.figure.Figure at 0x7fe28ac7b710>"
      ]
     },
     "metadata": {},
     "output_type": "display_data"
    },
    {
     "data": {
      "image/png": "[encoded data removed]",
      "text/plain": [
       "<matplotlib.figure.Figure at 0x7fe28ace7550>"
      ]
     },
     "metadata": {},
     "output_type": "display_data"
    },
    {
     "data": {
      "image/png": "[encoded data removed]",
      "text/plain": [
       "<matplotlib.figure.Figure at 0x7fe28ab06ed0>"
      ]
     },
     "metadata": {},
     "output_type": "display_data"
    }
   ],
   "source": [
    "indices = np.random.permutation(x.shape[0])\n",
    "A = [indices[:x.shape[0]/3], indices[x.shape[0]/3 : x.shape[0]/3*2], indices[x.shape[0]/3 * 2:]]\n",
    "train = A\n",
    "val = [A[1], A[2], A[0]]\n",
    "test = [A[2], A[0], A[1]]\n",
    "outputs = []\n",
    "preds = []\n",
    "gts = []\n",
    "for i in range(3):\n",
    "    network = get_network(num_layers = 10, dim = 5).cuda()\n",
    "    optimizer = optim.Adagrad(network.parameters(), lr = 0.01)\n",
    "    train_idx = train[i]\n",
    "    val_idx = val[i]\n",
    "    test_idx = test[i]\n",
    "    \n",
    "    #network init\n",
    "    p_target = opt_threshold_multi(x[train_idx, :], p[train_idx], 10)\n",
    "    #plt.figure()\n",
    "    #plt.scatter(x, p_target)\n",
    "    loss_hist = train_network_to_target_p(network, optimizer, x[train_idx], p_target, num_it = 6000, cuda= True, dim = 5)\n",
    "    #optimizer = optim.Adagrad(network.parameters(), lr = 0.01, weight_decay=0.01)\n",
    "    loss_hist2, s, s2 = train_network(network, optimizer, x[train_idx], p[train_idx], num_it = 9000, cuda = True, lambda2_ = 1e4, dim = 5)\n",
    "    \n",
    "    scale = get_scale(network, x[val_idx], p[val_idx], cuda = True, lambda2_ = 1e4, fit = True, dim=5)\n",
    "    _ = get_scale(network, x[test_idx], p[test_idx], cuda = True, lambda2_ = 1e4, scale = scale, dim= 5)\n",
    "\n",
    "    n_samples = len(x[test_idx])\n",
    "    x_input = Variable(torch.from_numpy(x[test_idx].astype(np.float32).reshape(n_samples ,5))).cuda()\n",
    "    p_input = Variable(torch.from_numpy(p[test_idx].astype(np.float32).reshape(n_samples ,1))).cuda()\n",
    "    output = network.forward(x_input) * scale\n",
    "    pred = (p_input < output).cpu().data.numpy()\n",
    "    pred = pred[:,0].astype(np.float32)\n",
    "    preds.append(pred)\n",
    "    \n",
    "    #x2 = np.arange(0, 5, 0.01)\n",
    "    #n_samples = len(x2)\n",
    "    #x_input = Variable(torch.from_numpy(x2.astype(np.float32).reshape(n_samples ,5))).cuda()\n",
    "    #outputs.append(network.forward(x_input) * scale)\n",
    "    gts.append(h[test_idx])\n",
    "    \n",
    "    \n",
    "    plt.figure()\n",
    "    plt.plot(loss_hist)\n",
    "    plt.figure()\n",
    "    plt.plot(loss_hist2)"
   ]
  },
  {
   "cell_type": "code",
   "execution_count": 31,
   "metadata": {
    "collapsed": false
   },
   "outputs": [
    {
     "name": "stdout",
     "output_type": "stream",
     "text": [
      "[397.0, 424.0, 548.0]\n",
      "1369.0\n",
      "2915.0\n",
      "1369.0\n",
      "1310.0\n",
      "0.0430971512053\n"
     ]
    }
   ],
   "source": [
    "rejs = [sum(item) for item in preds]\n",
    "print rejs\n",
    "print sum(rejs)\n",
    "\n",
    "preds = np.concatenate(preds)\n",
    "gts = np.concatenate(gts)\n",
    "print sum(gts)\n",
    "print sum(preds)\n",
    "print sum(preds * gts)\n",
    "print 1 - sum(preds * gts)/sum(preds)\n",
    "\n",
    "\n"
   ]
  },
  {
   "cell_type": "code",
   "execution_count": 8,
   "metadata": {
    "collapsed": false
   },
   "outputs": [],
   "source": [
    "p_target=opt_threshold_multi(x, p, k=10, intensity = 1)"
   ]
  },
  {
   "cell_type": "code",
   "execution_count": 9,
   "metadata": {
    "collapsed": false
   },
   "outputs": [
    {
     "name": "stdout",
     "output_type": "stream",
     "text": [
      "('Num of alternatives:', 1065.0)\n",
      "('Num of discovery:', 299)\n",
      "('Num of true discovery:', 281.0)\n",
      "('Actual FDR:', 0.06020066889632103)\n"
     ]
    }
   ],
   "source": [
    "pred=(p<p_target)*1\n",
    "result_summary(h,pred)"
   ]
  },
  {
   "cell_type": "code",
   "execution_count": 14,
   "metadata": {
    "collapsed": false
   },
   "outputs": [],
   "source": [
    "network = get_network(num_layers = 5, dim = x_Dim)\n",
    "optimizer = optim.Adagrad(network.parameters(), lr = 0.01)"
   ]
  },
  {
   "cell_type": "code",
   "execution_count": 24,
   "metadata": {
    "collapsed": false
   },
   "outputs": [
    {
     "name": "stdout",
     "output_type": "stream",
     "text": [
      "(250, 0.0012453391320829807)\n",
      "(265, 0.0014857075812447773, 0.88449999999999995)\n",
      "0\n",
      "100\n",
      "200\n",
      "300\n",
      "400\n",
      "500\n",
      "600\n",
      "700\n",
      "800\n",
      "900\n",
      "1000\n",
      "1100\n",
      "1200\n",
      "1300\n",
      "1400\n",
      "1500\n",
      "1600\n",
      "1700\n",
      "1800\n",
      "1900\n",
      "2000\n",
      "2100\n",
      "2200\n",
      "2300\n",
      "2400\n",
      "2500\n",
      "2600\n",
      "2700\n",
      "2800\n",
      "2900\n"
     ]
    }
   ],
   "source": [
    "print(BH(p))\n",
    "print(Storey_BH(p))\n",
    "#p_target = np.ones(x.shape) * Storey_BH(p)[1]\n",
    "loss_hist = train_network_to_target_p(network, optimizer, x, p_target, num_it = 3000, dim = x_Dim)"
   ]
  },
  {
   "cell_type": "code",
   "execution_count": 25,
   "metadata": {
    "collapsed": false
   },
   "outputs": [
    {
     "data": {
      "text/plain": [
       "[<matplotlib.lines.Line2D at 0x7f8e97824c90>]"
      ]
     },
     "execution_count": 25,
     "metadata": {},
     "output_type": "execute_result"
    },
    {
     "data": {
      "image/png": "[encoded data removed]",
      "text/plain": [
       "<matplotlib.figure.Figure at 0x7f8e9793d050>"
      ]
     },
     "metadata": {},
     "output_type": "display_data"
    }
   ],
   "source": [
    "plt.plot(np.log(loss_hist))"
   ]
  },
  {
   "cell_type": "code",
   "execution_count": 26,
   "metadata": {
    "collapsed": false
   },
   "outputs": [
    {
     "name": "stdout",
     "output_type": "stream",
     "text": [
      "0\n",
      "100\n",
      "200\n",
      "300\n",
      "400\n",
      "500\n",
      "600\n",
      "700\n",
      "800\n",
      "900\n",
      "1000\n",
      "1100\n",
      "1200\n",
      "1300\n",
      "1400\n",
      "1500\n",
      "1600\n",
      "1700\n",
      "1800\n",
      "1900\n",
      "2000\n",
      "2100\n",
      "2200\n",
      "2300\n",
      "2400\n",
      "2500\n",
      "2600\n",
      "2700\n",
      "2800\n",
      "2900\n"
     ]
    }
   ],
   "source": [
    "optimizer = optim.Adagrad(network.parameters(), lr = 0.01, weight_decay=0.01)\n",
    "loss_hist, val_hist, s, s2 = train_network_val(network, optimizer, x, p, num_it = 3000, dim = x_Dim, lambda2_=1e4)"
   ]
  },
  {
   "cell_type": "code",
   "execution_count": 18,
   "metadata": {
    "collapsed": false
   },
   "outputs": [
    {
     "name": "stdout",
     "output_type": "stream",
     "text": [
      "(Variable containing:\n",
      "1.00000e-02 *\n",
      "  3.4369\n",
      "[torch.FloatTensor of size 1]\n",
      ", Variable containing:\n",
      "1.00000e-03 *\n",
      "  1.6822\n",
      "[torch.FloatTensor of size 1]\n",
      ", Variable containing:\n",
      "1.00000e-02 *\n",
      "  4.8944\n",
      "[torch.FloatTensor of size 1]\n",
      ")\n"
     ]
    },
    {
     "data": {
      "image/png": "[encoded data removed]",
      "text/plain": [
       "<matplotlib.figure.Figure at 0x7f8e9c330190>"
      ]
     },
     "metadata": {},
     "output_type": "display_data"
    }
   ],
   "source": [
    "plt.plot(loss_hist)\n",
    "plt.plot(val_hist)\n",
    "print(s,s2, s2/s)"
   ]
  },
  {
   "cell_type": "code",
   "execution_count": 19,
   "metadata": {
    "collapsed": false
   },
   "outputs": [],
   "source": [
    "network.cpu()\n",
    "n_samples = len(x)\n",
    "x_input = Variable(torch.from_numpy(x.astype(np.float32).reshape(n_samples ,x_Dim)))\n",
    "p_input = Variable(torch.from_numpy(p.astype(np.float32).reshape(n_samples ,1)))\n",
    "output = network.forward(x_input)\n",
    "pred = (p_input < output).data.numpy()\n",
    "pred = pred[:,0].astype(np.float32)"
   ]
  },
  {
   "cell_type": "code",
   "execution_count": 20,
   "metadata": {
    "collapsed": false
   },
   "outputs": [
    {
     "name": "stdout",
     "output_type": "stream",
     "text": [
      "('Num of alternatives:', 1065.0)\n",
      "('Num of discovery:', 347.0)\n",
      "('Num of true discovery:', 313.0)\n",
      "('Actual FDR:', 0.097982708933717633)\n"
     ]
    }
   ],
   "source": [
    "x_input = Variable(torch.from_numpy(x.astype(np.float32).reshape(n_samples ,x_Dim)))\n",
    "p_input = Variable(torch.from_numpy(p.astype(np.float32).reshape(n_samples ,1)))\n",
    "\n",
    "output = network.forward(x_input)\n",
    "pred = (p_input < output).data.numpy()\n",
    "pred = pred[:,0].astype(np.float32)\n",
    "\n",
    "print(\"Num of alternatives:\",np.sum(h))\n",
    "print(\"Num of discovery:\",np.sum(pred))\n",
    "print(\"Num of true discovery:\",np.sum(pred * h))\n",
    "print(\"Actual FDR:\", 1-np.sum(pred * h) / np.sum(pred))"
   ]
  },
  {
   "cell_type": "code",
   "execution_count": 21,
   "metadata": {
    "collapsed": false
   },
   "outputs": [
    {
     "name": "stdout",
     "output_type": "stream",
     "text": [
      "('BH: num of dis, threshold:', 342, 0.003377951960033182)\n",
      "('Storey_BH: num of dis, threshold, null esti', 370, 0.0041715288497786076, 0.88449999999999995)\n"
     ]
    }
   ],
   "source": [
    "dic_BH, t_BH = BH(p,alpha=0.1)\n",
    "print(\"BH: num of dis, threshold:\", dic_BH,t_BH)\n",
    "dic_SBH, t_SBH, pi0_SBH = Storey_BH(p,alpha=0.1)\n",
    "print(\"Storey_BH: num of dis, threshold, null esti\", dic_SBH, t_SBH, pi0_SBH)"
   ]
  },
  {
   "cell_type": "code",
   "execution_count": null,
   "metadata": {
    "collapsed": true
   },
   "outputs": [],
   "source": []
  },
  {
   "cell_type": "code",
   "execution_count": null,
   "metadata": {
    "collapsed": true
   },
   "outputs": [],
   "source": []
  }
 ],
 "metadata": {
  "kernelspec": {
   "display_name": "Python 2",
   "language": "python",
   "name": "python2"
  },
  "language_info": {
   "codemirror_mode": {
    "name": "ipython",
    "version": 2
   },
   "file_extension": ".py",
   "mimetype": "text/x-python",
   "name": "python",
   "nbconvert_exporter": "python",
   "pygments_lexer": "ipython2",
   "version": "2.7.12"
  }
 },
 "nbformat": 4,
 "nbformat_minor": 2
}
