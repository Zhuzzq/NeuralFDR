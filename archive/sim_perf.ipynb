{
 "cells": [
  {
   "cell_type": "code",
   "execution_count": 1,
   "metadata": {
    "collapsed": true
   },
   "outputs": [],
   "source": [
    "import numpy as np"
   ]
  },
  {
   "cell_type": "code",
   "execution_count": 5,
   "metadata": {
    "collapsed": false
   },
   "outputs": [
    {
     "data": {
      "text/plain": [
       "array([ 9917, 11334, 11408, 18364])"
      ]
     },
     "execution_count": 5,
     "metadata": {},
     "output_type": "execute_result"
    }
   ],
   "source": [
    "gm_5d = np.array([[9849\t,11204\t,11338\t,18475.0],\n",
    "[10124\t,11493\t,11710\t,18583.0],\n",
    "[10052\t,11557\t,11471\t,18464.0],\n",
    "[9933\t,11286\t,11433\t,17897.0],\n",
    "[9917\t,11193\t,11294\t,18360.0],\n",
    "[9805\t,11330\t,11440\t,18734.0],\n",
    "[9866\t,11203\t,11219\t,18290.0],\n",
    "[9764\t,11259\t,11172\t,18132.0],\n",
    "[10071\t,11542\t,11609\t,18347.0],\n",
    "[9796\t,11273\t,11401\t,18360.0]])\n",
    "gm_5d.mean(axis=0).astype(np.int64)"
   ]
  },
  {
   "cell_type": "code",
   "execution_count": 7,
   "metadata": {
    "collapsed": false
   },
   "outputs": [
    {
     "data": {
      "text/plain": [
       "array([ 8473,  9539,  8758, 10318])"
      ]
     },
     "execution_count": 7,
     "metadata": {},
     "output_type": "execute_result"
    }
   ],
   "source": [
    "slope_2d = np.array([\n",
    "[8446,\t9534,\t8737,\t10256.0],\n",
    "[8782,\t9919,\t9033,\t10488.0],\n",
    "[8438,\t9476,\t8719,\t10242.0],\n",
    "[8653,\t9699,\t8937,\t10669.0],\n",
    "[8432,\t9408,\t8694,\t9944.0\n",
    "],[8570,\t9659,\t8886,\t10368.0],\n",
    "[8373,\t9393,\t8647,\t10348.0],\n",
    "[8526,\t9646,\t8714,\t10544.0],\n",
    "[8410,\t9503,\t8785,\t10436.0],\n",
    "[8104,\t9157,\t8429,\t9891.0 ],  ]\n",
    ")\n",
    "slope_2d.mean(axis=0).astype(np.int64)"
   ]
  },
  {
   "cell_type": "code",
   "execution_count": 8,
   "metadata": {
    "collapsed": false
   },
   "outputs": [
    {
     "data": {
      "text/plain": [
       "array([ 9917, 11334, 12175, 18844])"
      ]
     },
     "execution_count": 8,
     "metadata": {},
     "output_type": "execute_result"
    }
   ],
   "source": [
    "gm_2d = np.array([\n",
    "[9849\t,11204\t,12137\t,19335.0],\n",
    "[10124\t,11493\t,12619\t,18745.0],\n",
    "[10052\t,11557\t,12123\t,18966.0],\n",
    "[9933\t,11286\t,12425\t,18789.0],\n",
    "[9917\t,11193\t,12200\t,18876.0],\n",
    "[9805\t,11330\t,11836\t,18854.0],\n",
    "[9866\t,11203\t,12034\t,19375.0],\n",
    "[9764\t,11259\t,11886\t,18209.0],\n",
    "[10071\t,11542\t,12337\t,19110.0],\n",
    "[9796\t,11273\t,12153\t,18190.0], \n",
    "])\n",
    "gm_2d.mean(axis=0).astype(np.int64)"
   ]
  },
  {
   "cell_type": "code",
   "execution_count": 9,
   "metadata": {
    "collapsed": false
   },
   "outputs": [
    {
     "data": {
      "text/plain": [
       "array([2259, 2651, 5074, 6222])"
      ]
     },
     "execution_count": 9,
     "metadata": {},
     "output_type": "execute_result"
    }
   ],
   "source": [
    "ihw_sim = np.array([[2195\t,2649\t,5104\t,6526.0],\n",
    "[2290\t,2654\t,5036\t,6156.0],\n",
    "[2141\t,2551\t,5008\t,6138.0],\n",
    "[2332\t,2646\t,5162\t,6366.0],\n",
    "[2235\t,2597\t,5000\t,6034.0],\n",
    "[2194\t,2569\t,4925\t,6265.0],\n",
    "[2290\t,2720\t,5154\t,6294.0],\n",
    "[2445\t,2820\t,5204\t,6323.0],\n",
    "[2280\t,2675\t,5149\t,6203.0],\n",
    "[2189\t,2631\t,5006\t,5923.0],])\n",
    "ihw_sim.mean(axis=0).astype(np.int64)"
   ]
  },
  {
   "cell_type": "code",
   "execution_count": 11,
   "metadata": {
    "collapsed": false
   },
   "outputs": [
    {
     "data": {
      "text/plain": [
       "array([ 8266,  9227, 11172, 14899])"
      ]
     },
     "execution_count": 11,
     "metadata": {},
     "output_type": "execute_result"
    }
   ],
   "source": [
    "gm_1d = np.array([\n",
    "[8280,9229,11228,14744.0],\n",
    "[8415,9307,11205,15120.0],\n",
    "[8335,9241,11199,13855.0],\n",
    "[8384,9404,11381,15366.0],\n",
    "[8263,9252,10997,14116.0],\n",
    "[8069,9043,11000,14942.0],\n",
    "[8192,9185,11163,16470.0],\n",
    "[8312,9247,11294,15550.0],\n",
    "[8242,9216,11164,14063.0],\n",
    "[8172,9147,11092,14772.0],  \n",
    "])\n",
    "gm_1d.mean(axis=0).astype(np.int64)"
   ]
  },
  {
   "cell_type": "code",
   "execution_count": 12,
   "metadata": {
    "collapsed": false
   },
   "outputs": [
    {
     "data": {
      "text/plain": [
       "array([11794, 13593, 12658, 15781])"
      ]
     },
     "execution_count": 12,
     "metadata": {},
     "output_type": "execute_result"
    }
   ],
   "source": [
    "slope_1d = np.array([\n",
    "[11672,13269,12500,15642.0],\n",
    "[11854,13679,12716,15942.0],\n",
    "[11645,13520,12565,15803.0],\n",
    "[11674,13408,12639,15395.0],\n",
    "[11812,13623,12683,15641.0],\n",
    "[11614,13562,12446,16099.0],\n",
    "[11830,13635,12717,15547.0],\n",
    "[11885,13650,12603,15950.0],\n",
    "[11788,13637,12710,15476.0],\n",
    "[12166,13955,13006,16321.0],  \n",
    "])\n",
    "slope_1d.mean(axis=0).astype(np.int64)\n"
   ]
  },
  {
   "cell_type": "code",
   "execution_count": null,
   "metadata": {
    "collapsed": true
   },
   "outputs": [],
   "source": []
  }
 ],
 "metadata": {
  "kernelspec": {
   "display_name": "Python 2",
   "language": "python",
   "name": "python2"
  },
  "language_info": {
   "codemirror_mode": {
    "name": "ipython",
    "version": 2
   },
   "file_extension": ".py",
   "mimetype": "text/x-python",
   "name": "python",
   "nbconvert_exporter": "python",
   "pygments_lexer": "ipython2",
   "version": "2.7.12"
  }
 },
 "nbformat": 4,
 "nbformat_minor": 2
}
